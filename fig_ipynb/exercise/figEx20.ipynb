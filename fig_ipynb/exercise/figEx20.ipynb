{
 "cells": [
  {
   "cell_type": "code",
   "execution_count": 7,
   "metadata": {
    "autoscroll": "json-false",
    "collapsed": false,
    "ein.tags": [
     "worksheet-0"
    ],
    "slideshow": {
     "slide_type": "-"
    }
   },
   "outputs": [],
   "source": [
    "%matplotlib osx\n",
    "import matplotlib.pyplot as plt\n",
    "import matplotlib.lines as ln\n",
    "import numpy as np\n",
    "plt.close()\n",
    "\n",
    "plt.rcParams['font.family'] = 'Times New Roman'\n",
    "\n",
    "\n",
    "fig = plt.figure(figsize=(10,4), dpi=300)\n",
    "#fig = plt.figure(figsize=(10,4))\n",
    "fig.patch.set_alpha(0.)\n",
    "\n",
    "step = 0.01\n",
    "OmegaRange = 3*np.pi \n",
    "omega = np.arange(-OmegaRange, OmegaRange, step)\n",
    "\n",
    "# (a)\n",
    "ax =fig.add_subplot(121)\n",
    "\n",
    "Xabs = np.abs(np.cos(omega/2))\n",
    "\n",
    "plt.xlim([-OmegaRange, OmegaRange])\n",
    "plt.ylim([0, 1.2])\n",
    "plt.axhline(0, color='k', linewidth=2)\n",
    "ax.xaxis.set_label_coords(1.05, 0.05)\n",
    "ax.yaxis.set_label_coords(0.12,1.02)\n",
    "plt.xlabel('$\\omega$', fontsize=18)\n",
    "plt.ylabel('$|X(\\omega)|$', fontsize=18, rotation=0)\n",
    "plt.xticks([-6.28, -3.14, 0, 3.14, 6.28])\n",
    "plt.yticks([0, 0.5, 1])\n",
    "\n",
    "plt.plot(omega, Xabs, color='k')\n",
    "\n",
    "plt.text(0, -0.135, '(a)', ha = 'center', va = 'center', fontsize=18)\n",
    "\n",
    "# (b)\n",
    "ax =fig.add_subplot(122)\n",
    "\n",
    "# Because from -pi to pi mod 2pi, -pi is \"origin\"\n",
    "#theta = np.array([np.mod(-omega-np.pi, 2*np.pi)-np.pi if (2*np.cos(omega)+1 > 0) else np.mod((-omega+np.pi)-np.pi,2*np.pi)-np.pi for omega in np.arange(-OmegaRange, OmegaRange, step)])\n",
    "\n",
    "#theta = omega/2\n",
    "theta = np.array(np.mod(omega/2-np.pi, 2*np.pi)) - np.pi\n",
    "\n",
    "plt.xlim([-OmegaRange, OmegaRange])\n",
    "plt.ylim([-3.5, 3.5])\n",
    "plt.axhline(0, color='k', linewidth=2)\n",
    "ax.xaxis.set_label_coords(1.05, 0.05)\n",
    "ax.yaxis.set_label_coords(0.25,1.02)\n",
    "plt.xlabel('$\\omega$', fontsize=18)\n",
    "plt.ylabel('$\\\\theta(\\omega) = \\\\angle X(\\omega)$', fontsize=18, rotation=0)\n",
    "plt.xticks([-6.28, -3.14, 0, 3.14, 6.28])\n",
    "plt.yticks([-3.14, 0, 3.14])\n",
    "plt.plot(omega, theta, color='k')\n",
    "\n",
    "plt.text(0, -4.3, '(b)', ha = 'center', va = 'center', fontsize=18)\n",
    "\n",
    "plt.subplots_adjust(left=None, bottom=0.15, right=None, top=None, wspace=0.3, hspace=0.6)\n",
    "plt.savefig('./figures/figEx20.eps')\n",
    "plt.show()\n"
   ]
  },
  {
   "cell_type": "code",
   "execution_count": 59,
   "metadata": {
    "autoscroll": "json-false",
    "collapsed": false,
    "ein.tags": [
     "worksheet-0"
    ],
    "slideshow": {
     "slide_type": "-"
    }
   },
   "outputs": [],
   "source": [
    "plt.close()\n"
   ]
  },
  {
   "cell_type": "code",
   "execution_count": 28,
   "metadata": {
    "autoscroll": "json-false",
    "collapsed": false,
    "ein.tags": [
     "worksheet-0"
    ],
    "slideshow": {
     "slide_type": "-"
    }
   },
   "outputs": [
    {
     "name": "stdout",
     "output_type": "stream",
     "text": [
      "[2.5663706143591725, 0.42477796076937935, -1.7168146928204138, -0.71681469282041377, -2.8584073464102069, -1.8584073464102069, 2.2831853071795862, 0.14159265358979312, -2.0, -1.0, -0.0, -1.0, -2.0, 0.14159265358979312, 2.2831853071795862, -1.8584073464102069, -2.8584073464102069, -0.71681469282041377, -1.7168146928204138, 0.42477796076937935]\n",
      "[2 4]\n"
     ]
    }
   ],
   "source": [
    "theta = [(-np.mod(omega, np.pi) if (omega > 0) else -np.mod(-omega, np.pi)) if (2*np.cos(omega)+1 > 0) else (-np.mod(omega, np.pi) + np.pi if (omega > 0) else (-np.mod(-omega,np.pi) + np.pi)) for omega in np.arange(-10,10,1)]\n",
    "print(theta)\n",
    "#a = -5\n",
    "#tmp = np.mod(5, np.pi) if a > 0 else -np.mod(abs(5),np.pi)\n",
    "#print(tmp)\n",
    "print(indx)"
   ]
  },
  {
   "cell_type": "code",
   "execution_count": 0,
   "metadata": {
    "autoscroll": "json-false",
    "collapsed": false,
    "ein.tags": [
     "worksheet-0"
    ],
    "slideshow": {
     "slide_type": "-"
    }
   },
   "outputs": [],
   "source": []
  }
 ],
 "metadata": {
  "kernelspec": {
   "display_name": "Python [Root]",
   "name": "Python [Root]"
  },
  "language_info": {
   "codemirror_mode": {
    "name": "ipython",
    "version": 3
   },
   "file_extension": ".py",
   "mimetype": "text/x-python",
   "name": "python",
   "nbconvert_exporter": "python",
   "pygments_lexer": "ipython3",
   "version": "3.5.2"
  },
  "name": "figEx20.ipynb"
 },
 "nbformat": 4,
 "nbformat_minor": 0
}
