{
 "cells": [
  {
   "cell_type": "code",
   "execution_count": 14,
   "metadata": {
    "autoscroll": "json-false",
    "collapsed": false,
    "ein.tags": [
     "worksheet-0"
    ],
    "slideshow": {
     "slide_type": "-"
    }
   },
   "outputs": [
    {
     "name": "stdout",
     "output_type": "stream",
     "text": [
      "2000\n"
     ]
    }
   ],
   "source": [
    "%matplotlib osx\n",
    "import matplotlib.pyplot as plt\n",
    "import matplotlib.lines as ln\n",
    "import numpy as np\n",
    "plt.close()\n",
    "\n",
    "plt.rcParams['font.family'] = 'Times New Roman'\n",
    "\n",
    "step = 0.01\n",
    "lmbd = -0.7\n",
    "\n",
    "fig = plt.figure(dpi=300,figsize=(10,3))\n",
    "#fig = plt.figure(figsize=(10,3))\n",
    "fig.patch.set_alpha(0.)\n",
    "\n",
    "ax =fig.add_subplot(111)\n",
    "\n",
    "t = np.arange(-10,10, step)\n",
    "print(len(t))\n",
    "x = np.exp(lmbd*t)\n",
    "x[0:1000] = 0\n",
    "xn = np.exp(-lmbd*t)\n",
    "xn[1000:2000] = 0\n",
    "x = x + xn\n",
    "\n",
    "plt.xlim([-10, 10])\n",
    "plt.ylim([0, 1.1])\n",
    "plt.axhline(0, color='k', linewidth=0.5)\n",
    "#plt.axhline(2.5, color='k', linewidth=0.5, linestyle='dashed')\n",
    "plt.axvline(0, color='k', linewidth=0.5)\n",
    "ax.xaxis.set_label_coords(1.03, 0.08)\n",
    "ax.yaxis.set_label_coords(0.05,1.02)\n",
    "plt.xlabel('$t$', fontsize=18)\n",
    "#plt.ylabel('$x[n]$', fontsize=18, rotation=0)\n",
    "#xlabels = [-50, 0, 50, 100, 150, 200, 250]\n",
    "#xlabels = [-0.5, 0, 0.5, 1, 1.5, 2]\n",
    "#labels = ['$-T/2$', '0', '$T/2$', '$T$', '$3T/2$', '$2T$']\n",
    "plt.xticks()\n",
    "#plt.xticks(xlabels, labels)\n",
    "plt.yticks([0, 1])\n",
    "\n",
    "plt.plot(t,x, color='k',linewidth=2.5)\n",
    "#plt.setp(markerline, 'markerfacecolor', 'k')\n",
    "#plt.setp(stemlines, 'color', 'k')\n",
    "#plt.setp(baseline, 'color', 'k')\n",
    "\n",
    "plt.subplots_adjust(left=None, bottom=None, right=None, top=None, wspace=None, hspace=0.5)\n",
    "plt.savefig('./figures/figEx16.eps')\n",
    "plt.show()\n"
   ]
  },
  {
   "cell_type": "code",
   "execution_count": 59,
   "metadata": {
    "autoscroll": "json-false",
    "collapsed": false,
    "ein.tags": [
     "worksheet-0"
    ],
    "slideshow": {
     "slide_type": "-"
    }
   },
   "outputs": [],
   "source": [
    "plt.close()\n"
   ]
  },
  {
   "cell_type": "code",
   "execution_count": 0,
   "metadata": {
    "autoscroll": "json-false",
    "collapsed": false,
    "ein.tags": [
     "worksheet-0"
    ],
    "slideshow": {
     "slide_type": "-"
    }
   },
   "outputs": [],
   "source": []
  },
  {
   "cell_type": "code",
   "execution_count": 0,
   "metadata": {
    "autoscroll": "json-false",
    "collapsed": false,
    "ein.tags": [
     "worksheet-0"
    ],
    "slideshow": {
     "slide_type": "-"
    }
   },
   "outputs": [],
   "source": []
  }
 ],
 "metadata": {
  "kernelspec": {
   "display_name": "Python [Root]",
   "name": "Python [Root]"
  },
  "language_info": {
   "codemirror_mode": {
    "name": "ipython",
    "version": 3
   },
   "file_extension": ".py",
   "mimetype": "text/x-python",
   "name": "python",
   "nbconvert_exporter": "python",
   "pygments_lexer": "ipython3",
   "version": "3.5.2"
  },
  "name": "figEx16.ipynb"
 },
 "nbformat": 4,
 "nbformat_minor": 0
}
