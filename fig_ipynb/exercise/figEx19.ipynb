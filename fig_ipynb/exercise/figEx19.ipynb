{
 "cells": [
  {
   "cell_type": "code",
   "execution_count": 18,
   "metadata": {
    "autoscroll": "json-false",
    "collapsed": false,
    "ein.tags": [
     "worksheet-0"
    ],
    "slideshow": {
     "slide_type": "-"
    }
   },
   "outputs": [],
   "source": [
    "%matplotlib osx\n",
    "import matplotlib.pyplot as plt\n",
    "import matplotlib.lines as ln\n",
    "import numpy as np\n",
    "plt.close()\n",
    "\n",
    "plt.rcParams['font.family'] = 'Times New Roman'\n",
    "\n",
    "step = 1\n",
    "\n",
    "fig = plt.figure(figsize=(10,4),dpi=300)\n",
    "#fig = plt.figure(figsize=(10,4))\n",
    "fig.patch.set_alpha(0.)\n",
    "\n",
    "ax =fig.add_subplot(111)\n",
    "plt.xlim([-2, 10])\n",
    "plt.ylim([-1.2, 1.2])\n",
    "plt.axhline(0, color='k', linewidth=2)\n",
    "ax.xaxis.set_label_coords(1.02, 0.6)\n",
    "ax.yaxis.set_label_coords(0.14,1.02)\n",
    "plt.xticks([-2,-1,0,1,2,3,4,5,6,7,8,9,10])\n",
    "plt.yticks([-1, 0, 1])\n",
    "plt.xlabel('$n$', fontsize=18)\n",
    "plt.ylabel('$x[n] =$ cos$(2 \\pi n/8)$', fontsize=18, rotation=0)\n",
    "\n",
    "omega = 2*np.pi/8\n",
    "n = np.arange(-2, 10, step)\n",
    "x = np.cos(omega*n)\n",
    "x[0:2] = np.NaN\n",
    "x[10:12] = np.NaN\n",
    "\n",
    "markerline, stemlines, baseline = plt.stem(n,x, color='k')\n",
    "plt.setp(markerline, 'markerfacecolor', 'k')\n",
    "plt.setp(stemlines, 'color', 'k')\n",
    "plt.setp(baseline, 'color', 'k')\n",
    "\n",
    "plt.plot([0, 0], [-1.2,1.2], linewidth=0.5, color=\"black\")\n",
    "\n",
    "plt.subplots_adjust(left=None, bottom=0.2, right=None, top=None, wspace=None, hspace=None)\n",
    "plt.savefig('./figures/figEx19.eps')\n",
    "plt.show()\n"
   ]
  },
  {
   "cell_type": "code",
   "execution_count": 3,
   "metadata": {
    "autoscroll": "json-false",
    "collapsed": false,
    "ein.tags": [
     "worksheet-0"
    ],
    "slideshow": {
     "slide_type": "-"
    }
   },
   "outputs": [],
   "source": [
    "plt.close()\n"
   ]
  },
  {
   "cell_type": "code",
   "execution_count": 0,
   "metadata": {
    "autoscroll": "json-false",
    "collapsed": false,
    "ein.tags": [
     "worksheet-0"
    ],
    "slideshow": {
     "slide_type": "-"
    }
   },
   "outputs": [],
   "source": []
  },
  {
   "cell_type": "code",
   "execution_count": 84,
   "metadata": {
    "autoscroll": "json-false",
    "collapsed": false,
    "ein.tags": [
     "worksheet-0"
    ],
    "slideshow": {
     "slide_type": "-"
    }
   },
   "outputs": [],
   "source": []
  }
 ],
 "metadata": {
  "kernelspec": {
   "display_name": "Python [Root]",
   "name": "Python [Root]"
  },
  "name": "figEx19.ipynb"
 },
 "nbformat": 4,
 "nbformat_minor": 0
}
