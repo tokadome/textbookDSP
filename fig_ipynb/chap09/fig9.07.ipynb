{
 "cells": [
  {
   "cell_type": "code",
   "execution_count": null,
   "metadata": {
    "autoscroll": false,
    "collapsed": false,
    "ein.hycell": false,
    "ein.tags": "worksheet-0",
    "slideshow": {
     "slide_type": "-"
    }
   },
   "outputs": [],
   "source": [
    "%matplotlib inline\n",
    "#%matplotlib osx\n",
    "\n",
    "import matplotlib.pyplot as plt\n",
    "import matplotlib.lines as ln\n",
    "import numpy as np\n",
    "\n",
    "plt.rcParams['font.family'] = 'Times New Roman'\n",
    "plt.rcParams['mathtext.fontset'] = 'cm'\n",
    "\n",
    "step = 1\n",
    "W_lb = 0\n",
    "W_ub = 31\n",
    "M = 32\n",
    "\n",
    "fig = plt.figure(figsize=(10,4),dpi=300)\n",
    "fig.patch.set_alpha(0.)\n",
    "\n",
    "ax1 =fig.add_subplot(121)\n",
    "\n",
    "n = np.arange(-10, 40, step)\n",
    "w = 0.5*(1-np.cos(2*np.pi*n/M))\n",
    "\n",
    "l=len(n)\n",
    "for i in range(l):\n",
    "    if ((n[i] < W_lb) or (n[i] > W_ub)): w[i] = np.nan\n",
    "markerline, stemlines, baseline = plt.stem(n,w)\n",
    "#markerline, stemlines, baseline = plt.stem(n,w, color='k')\n",
    "plt.setp(markerline, 'markerfacecolor', 'k')\n",
    "plt.setp(stemlines, 'color', 'k')\n",
    "plt.setp(baseline, 'color', 'k')\n",
    "\n",
    "plt.xlim([-10, 40])\n",
    "plt.ylim([0, 1.2])\n",
    "plt.axhline(0, color='k', linewidth=2)\n",
    "ax1.xaxis.set_label_coords(1.04, 0.05)\n",
    "ax1.yaxis.set_label_coords(0.1,1.01)\n",
    "plt.xlabel('$n$', fontsize=18)\n",
    "plt.ylabel('$w[n]$', fontsize=18, rotation=0)\n",
    "plt.xticks([-10, 0, 10, 20, 30, 40])\n",
    "plt.yticks([0, 1])\n",
    "plt.text(15, -0.25, '(a)', ha = 'center', va = 'center', fontsize=18)\n",
    "\n",
    "# (b)\n",
    "ax2 =fig.add_subplot(122)\n",
    "omg = np.arange(-3-np.pi/4, 3+np.pi/4, 0.0001)\n",
    "Wrec = (np.sin((M/2)*omg)/np.sin((1/2)*omg))*np.exp(omg*(-(M-1)/2)*1j)\n",
    "Wrec_l = (np.sin((M/2)*(omg-2*np.pi/M))/np.sin((1/2)*(omg-2*np.pi/M)))*np.exp((omg-2*np.pi/M)*(-(M-1)/2)*1j)\n",
    "Wrec_r = (np.sin((M/2)*(omg+2*np.pi/M))/np.sin((1/2)*(omg+2*np.pi/M)))*np.exp((omg+2*np.pi/M)*(-(M-1)/2)*1j)\n",
    "W = 0.5*Wrec - 0.25*Wrec_l - 0.25*Wrec_r\n",
    "W_gain = np.absolute(W)\n",
    "W_gain_max = np.max(W_gain)\n",
    "plt.plot(omg, 20*np.log10(W_gain/W_gain_max), color='k')\n",
    "#\n",
    "plt.xlim([-3.5, 3.5])\n",
    "plt.ylim([-103, 5])\n",
    "plt.axhline(0, color='k', linewidth=0.1)\n",
    "\n",
    "ax2.xaxis.set_label_coords(1.05, 0.05)\n",
    "ax2.yaxis.set_label_coords(0.4,1.01)\n",
    "plt.ylabel('$20\\ \\log_{10} (|W(\\omega)|/W_{max})$', fontsize=18, rotation=0)\n",
    "plt.xlabel('$\\omega$', fontsize=18, rotation=0)\n",
    "plt.xticks([0])\n",
    "plt.yticks([0, -20, -40, -60, -80, -100])\n",
    "plt.text(0, -125, '(b)', ha = 'center', va = 'center', fontsize=18)\n",
    "\n",
    "plt.subplots_adjust(left=None, bottom=0.2, right=None, top=None, wspace=0.25, hspace=None)\n",
    "plt.savefig('./figures/fig9.07.png')\n",
    "#plt.savefig('./figures/fig9.07.eps')\n",
    "plt.show()"
   ]
  },
  {
   "cell_type": "code",
   "execution_count": null,
   "metadata": {
    "autoscroll": false,
    "collapsed": false,
    "ein.hycell": false,
    "ein.tags": "worksheet-0",
    "slideshow": {
     "slide_type": "-"
    }
   },
   "outputs": [],
   "source": [
    "plt.close()"
   ]
  }
 ],
 "metadata": {
  "kernelspec": {
   "display_name": "Python [Root]",
   "name": "Python [Root]"
  },
  "language_info": {
   "codemirror_mode": {
    "name": "ipython",
    "version": 3
   },
   "file_extension": ".py",
   "mimetype": "text/x-python",
   "name": "python",
   "nbconvert_exporter": "python",
   "pygments_lexer": "ipython3",
   "version": "3.5.2"
  },
  "name": "fig9.07.ipynb"
 },
 "nbformat": 4,
 "nbformat_minor": 0
}
