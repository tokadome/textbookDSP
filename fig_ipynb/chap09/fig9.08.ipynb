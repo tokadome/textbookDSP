{
 "cells": [
  {
   "cell_type": "code",
   "execution_count": 1,
   "metadata": {
    "autoscroll": "json-false",
    "collapsed": false,
    "ein.tags": [
     "worksheet-0"
    ],
    "slideshow": {
     "slide_type": "-"
    }
   },
   "outputs": [],
   "source": [
    "%matplotlib osx\n",
    "import matplotlib.pyplot as plt\n",
    "import matplotlib.lines as ln\n",
    "import numpy as np\n",
    "\n",
    "plt.close()\n",
    "\n",
    "plt.rcParams['font.family'] = 'Times New Roman'\n",
    "\n",
    "step = 1\n",
    "W_lb = 0\n",
    "W_ub = 31\n",
    "M = 32\n",
    "\n",
    "fig = plt.figure(figsize=(10,4),dpi=300)\n",
    "fig.patch.set_alpha(0.)\n",
    "\n",
    "ax1 =fig.add_subplot(121)\n",
    "\n",
    "n = np.arange(-10, 40, step)\n",
    "w = np.ones(len(n))\n",
    "w = 0.54*w - 0.46*np.cos(2*np.pi*n/M)\n",
    "\n",
    "l=len(n)\n",
    "for i in range(l):\n",
    "    if ((n[i] < W_lb) or (n[i] > W_ub)): w[i] = 'nan'\n",
    "markerline, stemlines, baseline = plt.stem(n,w, color='k')\n",
    "plt.setp(markerline, 'markerfacecolor', 'k')\n",
    "plt.setp(stemlines, 'color', 'k')\n",
    "plt.setp(baseline, 'color', 'k')\n",
    "\n",
    "plt.xlim([-10, 40])\n",
    "plt.ylim([0, 1.2])\n",
    "plt.axhline(0, color='k', linewidth=2)\n",
    "ax1.xaxis.set_label_coords(1.04, 0.05)\n",
    "ax1.yaxis.set_label_coords(0.1,1.01)\n",
    "plt.xlabel('$n$', fontsize=18)\n",
    "plt.ylabel('$w[n]$', fontsize=18, rotation=0)\n",
    "plt.xticks([-10, 0, 10, 20, 30, 40])\n",
    "plt.yticks([0, 1])\n",
    "plt.text(15, -0.25, '(a)', ha = 'center', va = 'center', fontsize=18)\n",
    "\n",
    "# (b)\n",
    "ax2 =fig.add_subplot(122)\n",
    "omg = np.arange(-3-np.pi/4, 3+np.pi/4, 0.0001)\n",
    "Wrec = (np.sin((M/2)*omg)/np.sin((1/2)*omg))*np.exp(omg*(-(M-1)/2)*1j)\n",
    "Wrec_l = (np.sin((M/2)*(omg+2*np.pi/M))/np.sin((1/2)*(omg+2*np.pi/M)))*np.exp((omg+2*np.pi/M)*(-(M-1)/2)*1j)\n",
    "Wrec_r = (np.sin((M/2)*(omg-2*np.pi/M))/np.sin((1/2)*(omg-2*np.pi/M)))*np.exp((omg-2*np.pi/M)*(-(M-1)/2)*1j)\n",
    "W = 0.54*Wrec - 0.23*Wrec_l - 0.23*Wrec_r\n",
    "W_gain = np.absolute(W)\n",
    "W_gain_max = np.max(W_gain)\n",
    "plt.plot(omg, 20*np.log10(W_gain/W_gain_max), color='k')\n",
    "#\n",
    "plt.xlim([-3.5, 3.5])\n",
    "plt.ylim([-103, 5])\n",
    "plt.axhline(0, color='k', linewidth=0.1)\n",
    "\n",
    "ax2.xaxis.set_label_coords(1.05, 0.05)\n",
    "ax2.yaxis.set_label_coords(0.4,1.01)\n",
    "plt.ylabel('$20\\ \\log_{10} (|W(\\omega)|/W_{max})$', fontsize=18, rotation=0)\n",
    "plt.xlabel('$\\omega$', fontsize=18, rotation=0)\n",
    "plt.xticks([0])\n",
    "plt.yticks([0, -20, -40, -60, -80, -100])\n",
    "plt.text(0, -125, '(b)', ha = 'center', va = 'center', fontsize=18)\n",
    "\n",
    "plt.subplots_adjust(left=None, bottom=0.2, right=None, top=None, wspace=0.25, hspace=None)\n",
    "plt.savefig('./figures/fig10.08.eps')\n",
    "plt.show()\n"
   ]
  },
  {
   "cell_type": "code",
   "execution_count": 3,
   "metadata": {
    "autoscroll": "json-false",
    "collapsed": false,
    "ein.tags": [
     "worksheet-0"
    ],
    "slideshow": {
     "slide_type": "-"
    }
   },
   "outputs": [],
   "source": [
    "plt.close()\n"
   ]
  },
  {
   "cell_type": "code",
   "execution_count": 16,
   "metadata": {
    "autoscroll": "json-false",
    "collapsed": false,
    "ein.tags": [
     "worksheet-0"
    ],
    "slideshow": {
     "slide_type": "-"
    }
   },
   "outputs": [
    {
     "data": {
      "text/plain": [
       "[<matplotlib.lines.Line2D at 0x105592c88>]"
      ]
     },
     "execution_count": 16,
     "metadata": {},
     "output_type": "execute_result"
    }
   ],
   "source": [
    "import numpy as np\n",
    "\n",
    "def win_hamming(n, M=16, WB=0, fillzero=False):\n",
    "  '''Rectangular window.\n",
    "       n: discrete time. ndarray, int\n",
    "       M: window size; dafault = 16\n",
    "       WB: begin window; default = 0\n",
    "       fillzero: value out of window; default value = nan\n",
    "\n",
    "       return: rectangular window. ndarray'''\n",
    "  \n",
    "  l_n = len(n)\n",
    "  w = 0.54 - 0.46*np.cos(2*np.pi*n/M)  \n",
    "  if (l_n <= 0):\n",
    "    print(\"Argument n seems to be null.\\n\")\n",
    "    return(None)\n",
    "\n",
    "  W_lb = WB\n",
    "  W_ub = M-1+WB\n",
    "  if (fillzero == False): s = np.nan\n",
    "  else: s = 0\n",
    "  for i in range(l_n):\n",
    "    if ((n[i] < W_lb) or (n[i] > W_ub)): w[i] = s\n",
    "  return(w)\n",
    "\n",
    "def extract_by_win_hamming(n, f, M=16, WB=0, fillzero=False):\n",
    "  '''Signal extraction by Rectangular window.\n",
    "       n: discrete time. ndarray, int\n",
    "       f: function of n. ndarray, float\n",
    "       M: window size; dafault = 16\n",
    "       WB: begin window; default = 0\n",
    "       fillzero: value out of window; default value = nan\n",
    "\n",
    "       return: windowed f. ndarray'''\n",
    "  \n",
    "  l_n = len(n)\n",
    "  l_f = len(f)\n",
    "  f_tmp = np.array(f)\n",
    "  w = 0.54 - 0.46*np.cos(2*np.pi*n/M)\n",
    "  \n",
    "  f_tmp = f_tmp*w  \n",
    "  if ((l_n <= 0) or (l_f <= 0)):\n",
    "    print(\"Arguments n or f seem to be null.\\n\")\n",
    "    return(None)\n",
    "  elif (l_n != l_f):\n",
    "    print(\"Length of n and f must be equal.\")\n",
    "    return(None)\n",
    "\n",
    "  W_lb = WB\n",
    "  W_ub = M-1+WB\n",
    "  if (fillzero == False): s = np.nan\n",
    "  else: s = 0\n",
    "  for i in range(l_n):\n",
    "    if ((n[i] < W_lb) or (n[i] > W_ub)): f_tmp[i] = s\n",
    "  return(f_tmp)\n",
    "\n",
    "def win_hamming_spectral(M=16, omg_shift=0, l_range=-2*np.pi, r_range=2*np.pi, step=0.001):\n",
    "  '''Rectangular window.\n",
    "       M: window size; dafault = 16\n",
    "       omg_shift: shift spectral to frequency by omg_shift; dafault = 0\n",
    "       l_range= left of frequency range; default = -2*pi\n",
    "       r_range= right of frequency range; default = 2*pi\n",
    "       step: default=0.001\n",
    "\n",
    "       return: Spectral of recutanglar window. ndarray'''\n",
    "\n",
    "  omg = np.arange(l_range, r_range, step) - omg_shift\n",
    "  \n",
    "  Wrec = (np.sin((M/2)*omg)/np.sin((1/2)*omg))*np.exp(omg*(-(M-1)/2)*1j)\n",
    "  Wrec_l = (np.sin((M/2)*(omg+2*np.pi/M))/np.sin((1/2)*(omg+2*np.pi/M)))*np.exp((omg+2*np.pi/M)*(-(M-1)/2)*1j)\n",
    "  Wrec_r = (np.sin((M/2)*(omg-2*np.pi/M))/np.sin((1/2)*(omg-2*np.pi/M)))*np.exp((omg-2*np.pi/M)*(-(M-1)/2)*1j)\n",
    "  W = 0.54*Wrec - 0.23*Wrec_l - 0.23*Wrec_r\n",
    "    \n",
    "  return(W)\n",
    "  \n",
    "#n = np.arange(-20,20,1)\n",
    "#f = np.sin(n)\n",
    "#w = extract_by_win_hamming(n, f)\n",
    "#plt.plot(n,w)\n",
    "omg = np.arange(-2*np.pi, 2*np.pi, 0.001)\n",
    "w = win_hamming_spectral(64, np.pi/4)\n",
    "plt.plot(omg,np.log10(np.absolute(w)))\n",
    "\n"
   ]
  }
 ],
 "metadata": {
  "kernelspec": {
   "display_name": "Python [Root]",
   "name": "Python [Root]"
  },
  "language_info": {
   "codemirror_mode": {
    "name": "ipython",
    "version": 3
   },
   "file_extension": ".py",
   "mimetype": "text/x-python",
   "name": "python",
   "nbconvert_exporter": "python",
   "pygments_lexer": "ipython3",
   "version": "3.5.2"
  },
  "name": "fig10.08.ipynb"
 },
 "nbformat": 4,
 "nbformat_minor": 0
}
