{
 "cells": [
  {
   "cell_type": "code",
   "execution_count": 1,
   "metadata": {
    "autoscroll": "json-false",
    "collapsed": false,
    "ein.tags": [
     "worksheet-0"
    ],
    "slideshow": {
     "slide_type": "-"
    }
   },
   "outputs": [],
   "source": [
    "%matplotlib osx\n",
    "import matplotlib.pyplot as plt\n",
    "import matplotlib.lines as ln\n",
    "import numpy as np\n",
    "plt.close()\n",
    "\n",
    "plt.rcParams['font.family'] = 'Times New Roman'\n",
    "\n",
    "omega_0 = np.pi/4\n",
    "step = 1\n",
    "W_lb = 0\n",
    "W_ub = 11\n",
    "N = 12\n",
    "\n",
    "fig = plt.figure(dpi=300)\n",
    "fig.patch.set_alpha(0.)\n",
    "\n",
    "ax1 =fig.add_subplot(221)\n",
    "plt.xlim([-15, 15])\n",
    "plt.ylim([0, 1.2])\n",
    "plt.axhline(0, color='k', linewidth=2)\n",
    "ax1.xaxis.set_label_coords(1.04, 0.12)\n",
    "ax1.yaxis.set_label_coords(0.1,1.02)\n",
    "plt.xlabel('$n$', fontsize=18)\n",
    "plt.ylabel('$w[n]$', fontsize=18, rotation=0)\n",
    "#plt.xticks(range(0),())\n",
    "plt.yticks([0, 1])\n",
    "#ax1.spines['right'].set_color('none')\n",
    "#ax1.spines['left'].set_color('none')\n",
    "#ax1.spines['bottom'].set_color('none')\n",
    "#ax1.spines['top'].set_color('none')\n",
    "\n",
    "n = np.arange(-10, 20, step)\n",
    "w = np.ones(len(n))\n",
    "\n",
    "l=len(n)\n",
    "for i in range(l):\n",
    "    if ((n[i] < W_lb) or (n[i] > W_ub)): w[i] = 'nan'\n",
    "markerline, stemlines, baseline = plt.stem(n,w, color='k')\n",
    "plt.setp(markerline, 'markerfacecolor', 'k')\n",
    "plt.setp(stemlines, 'color', 'k')\n",
    "plt.setp(baseline, 'color', 'k')\n",
    "\n",
    "#plt.text(0.1, -1.55, '(a)', ha = 'center', va = 'center', fontsize=18)\n",
    "\n",
    "ax2 =fig.add_subplot(223)\n",
    "#plt.subplot(212)\n",
    "plt.xlim([-3.5, 3.5])\n",
    "plt.ylim([0, 13])\n",
    "plt.axhline(0, color='k', linewidth=2)\n",
    "#ax2 = plt.gca()\n",
    "ax2.xaxis.set_label_coords(1.05, 0.1)\n",
    "ax2.yaxis.set_label_coords(0.15,1.02)\n",
    "plt.ylabel('$|W(\\omega)|$', fontsize=18, rotation=0)\n",
    "plt.xlabel('$\\omega$', fontsize=18, rotation=0)\n",
    "plt.xticks([0])\n",
    "#plt.xticks(range(0),())\n",
    "plt.yticks(range(0),())\n",
    "#plt.yticks([0, 4, 8, 12])\n",
    "\n",
    "omg = np.arange(-10-np.pi/4, 10+np.pi/4, 0.01)\n",
    "W = (np.sin((N/2)*omg)/np.sin((1/2)*omg))*np.exp(omg*(-(N-1)/2)*(0+1j))\n",
    "W_gain = abs(W)\n",
    "plt.plot(omg, W_gain, color='k')\n",
    "\n",
    "plt.text(1.6, 8.5, 'main lobe', ha = 'center', va = 'center', fontsize=16)\n",
    "plt.quiver(1.0,7.8,-0.6,-1.2,angles='xy',scale_units='xy',scale=1)\n",
    "plt.text(2.0, 4.0, 'side lobes', ha = 'center', va = 'center', fontsize=16)\n",
    "plt.quiver(1.6,3.0,-0.3,-1.3,angles='xy',scale_units='xy',scale=1)\n",
    "plt.quiver(1.8,3.0,0.4,-1.7,angles='xy',scale_units='xy',scale=1)\n",
    "\n",
    "plt.text(0, -2.8, '(a) Window length: 12', ha = 'center', va = 'center', fontsize=18)\n",
    "\n",
    "######\n",
    "W_lb = 0\n",
    "W_ub = 23\n",
    "N = 24\n",
    "\n",
    "ax1 =fig.add_subplot(222)\n",
    "plt.xlim([-10, 30])\n",
    "plt.ylim([0, 1.2])\n",
    "plt.axhline(0, color='k', linewidth=2)\n",
    "ax1.xaxis.set_label_coords(1.04, 0.12)\n",
    "ax1.yaxis.set_label_coords(0.1,1.02)\n",
    "plt.xlabel('$n$', fontsize=18)\n",
    "plt.ylabel('$\\hat w[n]$', fontsize=18, rotation=0)\n",
    "#plt.xticks(range(0),())\n",
    "plt.yticks([0,1])\n",
    "\n",
    "n = np.arange(-10, 30, step)\n",
    "w = np.ones(len(n))\n",
    "\n",
    "l=len(n)\n",
    "for i in range(l):\n",
    "    if ((n[i] < W_lb) or (n[i] > W_ub)): w[i] = 'nan'\n",
    "markerline, stemlines, baseline = plt.stem(n,w, color='k')\n",
    "plt.setp(markerline, 'markerfacecolor', 'k')\n",
    "plt.setp(stemlines, 'color', 'k')\n",
    "plt.setp(baseline, 'color', 'k')\n",
    "\n",
    "ax2 =fig.add_subplot(224)\n",
    "#plt.subplot(212)\n",
    "plt.xlim([-3.5, 3.5])\n",
    "plt.ylim([0, 25])\n",
    "plt.axhline(0, color='k', linewidth=2)\n",
    "#ax2 = plt.gca()\n",
    "ax2.xaxis.set_label_coords(1.05, 0.1)\n",
    "ax2.yaxis.set_label_coords(0.15,1.02)\n",
    "plt.ylabel('$|\\hat W(\\omega)|$', fontsize=18, rotation=0)\n",
    "plt.xlabel('$\\omega$', fontsize=18, rotation=0)\n",
    "plt.xticks([0])\n",
    "#plt.xticks(range(0),())\n",
    "plt.yticks(range(0),())\n",
    "#plt.yticks([0, 4, 8, 12])\n",
    "\n",
    "omg = np.arange(-10-np.pi/4, 10+np.pi/4, 0.01)\n",
    "W = (np.sin((N/2)*omg)/np.sin((1/2)*omg))*np.exp(omg*((N-1)/2)*(0+1j))\n",
    "W_gain = abs(W)\n",
    "plt.plot(omg, W_gain, color='k')\n",
    "\n",
    "#\n",
    "plt.text(1.6, 16.5, 'main lobe', ha = 'center', va = 'center', fontsize=16)\n",
    "plt.quiver(0.7,14.8,-0.5,-1.2,angles='xy',scale_units='xy',scale=1)\n",
    "plt.text(1.8, 6.4, 'side lobes', ha = 'center', va = 'center', fontsize=16)\n",
    "plt.quiver(1.6,4.9,-0.5,-2.2,angles='xy',scale_units='xy',scale=1)\n",
    "plt.quiver(1.7,4.9,0.2,-2.9,angles='xy',scale_units='xy',scale=1)\n",
    "\n",
    "plt.text(0, -5.5, '(b) Window length: 24', ha = 'center', va = 'center', fontsize=18)\n",
    "\n",
    "plt.subplots_adjust(left=None, bottom=None, right=None, top=None, wspace=0.2, hspace=0.4)\n",
    "plt.savefig('./figures/fig10.04.eps')\n",
    "plt.show()\n"
   ]
  },
  {
   "cell_type": "code",
   "execution_count": 3,
   "metadata": {
    "autoscroll": "json-false",
    "collapsed": false,
    "ein.tags": [
     "worksheet-0"
    ],
    "slideshow": {
     "slide_type": "-"
    }
   },
   "outputs": [],
   "source": [
    "plt.close()\n"
   ]
  },
  {
   "cell_type": "code",
   "execution_count": 5,
   "metadata": {
    "autoscroll": "json-false",
    "collapsed": false,
    "ein.tags": [
     "worksheet-0"
    ],
    "slideshow": {
     "slide_type": "-"
    }
   },
   "outputs": [
    {
     "name": "stdout",
     "output_type": "stream",
     "text": [
      "(-13.1287830815-15.2007844631j)\n"
     ]
    }
   ],
   "source": [
    "test = np.exp(3+4j)\n",
    "print(test)"
   ]
  }
 ],
 "metadata": {
  "kernelspec": {
   "display_name": "Python [Root]",
   "name": "Python [Root]"
  },
  "language_info": {
   "codemirror_mode": {
    "name": "ipython",
    "version": 3
   },
   "file_extension": ".py",
   "mimetype": "text/x-python",
   "name": "python",
   "nbconvert_exporter": "python",
   "pygments_lexer": "ipython3",
   "version": "3.5.2"
  },
  "name": "fig10.04.ipynb"
 },
 "nbformat": 4,
 "nbformat_minor": 0
}
