{
 "cells": [
  {
   "cell_type": "code",
   "execution_count": null,
   "metadata": {
    "autoscroll": false,
    "collapsed": false,
    "ein.hycell": false,
    "ein.tags": "worksheet-0",
    "slideshow": {
     "slide_type": "-"
    }
   },
   "outputs": [],
   "source": [
    "#%matplotlib osx\n",
    "%matplotlib inline\n",
    "\n",
    "import matplotlib.pyplot as plt\n",
    "import matplotlib.lines as ln\n",
    "import numpy as np\n",
    "plt.close()\n",
    "\n",
    "plt.rcParams['font.family'] = 'Times New Roman'\n",
    "\n",
    "omega_0 = np.pi/4\n",
    "N = 8\n",
    "step = 1\n",
    "\n",
    "fig = plt.figure(figsize=(10,4),dpi=300)\n",
    "#fig = plt.figure(figsize=(10,4))\n",
    "fig.patch.set_alpha(0.)\n",
    "\n",
    "ax1 =fig.add_subplot(121)\n",
    "plt.xlim([-15, 15])\n",
    "plt.ylim([-1.1, 1.1])\n",
    "plt.axhline(0, color='k', linewidth=2)\n",
    "ax1.xaxis.set_label_coords(1.07, 0.1)\n",
    "ax1.yaxis.set_label_coords(0.1,1.02)\n",
    "plt.xlabel('$n$', fontname='Times New Roman', fontsize=18)\n",
    "plt.ylabel('$x[n]$', fontsize=18, rotation=0)\n",
    "\n",
    "#ax1.spines['right'].set_color('none')\n",
    "#ax1.spines['left'].set_color('none')\n",
    "#ax1.spines['bottom'].set_color('none')\n",
    "#ax1.spines['top'].set_color('none')\n",
    "\n",
    "m = np.arange(-15, 15, step)\n",
    "cm = np.sin(omega_0*m)\n",
    "\n",
    "markerline, stemlines, baseline = plt.stem(m,cm, color='k')\n",
    "plt.setp(markerline, 'markerfacecolor', 'k')\n",
    "plt.setp(stemlines, 'color', 'k')\n",
    "plt.setp(baseline, 'color', 'k')\n",
    "\n",
    "plt.text(0.1, -1.5, '(a)', ha = 'center', va = 'center', fontsize=18)\n",
    "\n",
    "#(b)\n",
    "ax2 =fig.add_subplot(122)\n",
    "#plt.subplot(212)\n",
    "plt.xlim([-2, 2])\n",
    "plt.ylim([-0.005, 0.6])\n",
    "plt.axhline(0, color='k', linewidth=2)\n",
    "\n",
    "ax2.xaxis.set_label_coords(1.07, 0.1)\n",
    "ax2.yaxis.set_label_coords(0.07,1.02)\n",
    "plt.ylabel('$c_k$', fontname='Times New Roman', fontsize=18, rotation=0)\n",
    "plt.xlabel('$\\omega$', fontsize=18, rotation=0)\n",
    "plt.xticks(range(0),())\n",
    "plt.yticks([0,0.5])\n",
    "plt.text(-0.8, -0.04, '$-\\omega_0$', ha = 'center', va = 'center', fontsize=18)\n",
    "plt.text(0.8, -0.04, '$\\omega_0$', ha = 'center', va = 'center', fontsize=18)\n",
    "#plt.yticks(range(0),())\n",
    "#ax2.spines['right'].set_color('none')\n",
    "#ax2.spines['left'].set_color('none')\n",
    "#ax2.spines['bottom'].set_color('none')\n",
    "#ax2.spines['top'].set_color('none')\n",
    "\n",
    "m = [-np.pi/4, np.pi/4]\n",
    "cm = [0.5, 0.5]\n",
    "markerline, stemlines, baseline = plt.stem(m,cm, color='k')\n",
    "plt.setp(markerline, 'markerfacecolor', 'k')\n",
    "plt.setp(stemlines, 'color', 'k')\n",
    "plt.setp(baseline, 'color', 'k')\n",
    "\n",
    "plt.text(0, -0.1, '(b)', ha = 'center', va = 'center', fontsize=18)\n",
    "\n",
    "#plt.subplots_adjust(left=None, bottom=0.5, right=None, top=None, wspace=0.25, hspace=0)\n",
    "plt.subplots_adjust(left=None, bottom=0.2, right=None, top=None, wspace=0.25, hspace=None)\n",
    "plt.savefig('./figures/fig10.02.eps')\n",
    "plt.show()\n"
   ]
  },
  {
   "cell_type": "code",
   "execution_count": 3,
   "metadata": {
    "autoscroll": false,
    "collapsed": false,
    "ein.hycell": false,
    "ein.tags": "worksheet-0",
    "slideshow": {
     "slide_type": "-"
    }
   },
   "outputs": [],
   "source": [
    "plt.close()\n"
   ]
  },
  {
   "cell_type": "code",
   "execution_count": 130,
   "metadata": {
    "autoscroll": false,
    "collapsed": false,
    "ein.hycell": false,
    "ein.tags": "worksheet-0",
    "slideshow": {
     "slide_type": "-"
    }
   },
   "outputs": [
    {
     "data": {
      "text/plain": [
       "[1, 0, 3]"
      ]
     },
     "execution_count": 130,
     "metadata": {},
     "output_type": "execute_result"
    }
   ],
   "source": [
    "tmp=[1,2,3]\n",
    "tmp[1] = 0\n",
    "tmp"
   ]
  },
  {
   "cell_type": "code",
   "execution_count": 84,
   "metadata": {
    "autoscroll": false,
    "collapsed": false,
    "ein.hycell": false,
    "ein.tags": "worksheet-0",
    "slideshow": {
     "slide_type": "-"
    }
   },
   "outputs": [],
   "source": [
    "plt.close()"
   ]
  }
 ],
 "metadata": {
  "kernelspec": {
   "display_name": "Python 3",
   "name": "python3"
  },
  "language_info": {
   "codemirror_mode": {
    "name": "ipython",
    "version": 3
   },
   "file_extension": ".py",
   "mimetype": "text/x-python",
   "name": "python",
   "nbconvert_exporter": "python",
   "pygments_lexer": "ipython3",
   "version": "3.5.1"
  },
  "name": "fig9.02.ipynb"
 },
 "nbformat": 4,
 "nbformat_minor": 0
}
