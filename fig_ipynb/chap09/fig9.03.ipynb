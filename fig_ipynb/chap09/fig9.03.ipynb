{
 "cells": [
  {
   "cell_type": "code",
   "execution_count": 1,
   "metadata": {
    "autoscroll": "json-false",
    "collapsed": false,
    "ein.tags": [
     "worksheet-0"
    ],
    "slideshow": {
     "slide_type": "slide"
    }
   },
   "outputs": [],
   "source": [
    "%matplotlib osx\n",
    "import matplotlib.pyplot as plt\n",
    "import matplotlib.lines as ln\n",
    "import numpy as np\n",
    "plt.close()\n",
    "\n",
    "plt.rcParams['font.family'] = 'Times New Roman'\n",
    "\n",
    "omega_0 = np.pi/4\n",
    "step = 1\n",
    "W_lb = 0\n",
    "W_ub = 11\n",
    "M = 12\n",
    "\n",
    "fig = plt.figure(figsize=(10,4),dpi=300)\n",
    "fig.patch.set_alpha(0.)\n",
    "\n",
    "ax1 =fig.add_subplot(121)\n",
    "plt.xlim([-10, 20])\n",
    "plt.ylim([-1.2, 1.2])\n",
    "plt.axhline(0, color='k', linewidth=2)\n",
    "ax1.xaxis.set_label_coords(1.04, 0.12)\n",
    "ax1.yaxis.set_label_coords(0.1,1.02)\n",
    "plt.xlabel('$n$', fontsize=18)\n",
    "plt.ylabel('$x_w[n]$', fontsize=18, rotation=0)\n",
    "\n",
    "n = np.arange(-10, 20, step)\n",
    "x = np.sin(omega_0*n)\n",
    "\n",
    "l=len(n)\n",
    "for i in range(l):\n",
    "    if ((n[i] < W_lb) or (n[i] > W_ub)): x[i] = 'nan'\n",
    "markerline, stemlines, baseline = plt.stem(n,x, color='k')\n",
    "plt.setp(markerline, 'markerfacecolor', 'k')\n",
    "plt.setp(stemlines, 'color', 'k')\n",
    "plt.setp(baseline, 'color', 'k')\n",
    "\n",
    "plt.text(0.5, -1.65, '(a)', ha = 'center', va = 'center', fontsize=18)\n",
    "\n",
    "ax2 =fig.add_subplot(122)\n",
    "#plt.subplot(212)\n",
    "plt.xlim([-3, 3])\n",
    "plt.ylim([0, 8])\n",
    "plt.axhline(0, color='k', linewidth=2)\n",
    "ax2.xaxis.set_label_coords(1.05, 0.1)\n",
    "ax2.yaxis.set_label_coords(0.15,1.02)\n",
    "plt.ylabel('$| X_w(\\omega) |$', fontsize=18, rotation=0)\n",
    "plt.xlabel('$\\omega$', fontsize=18, rotation=0)\n",
    "plt.xticks([-np.pi/4, np.pi/4])\n",
    "plt.text(-0.8, 0.5, '$-\\omega_0$', ha = 'center', va = 'center', fontsize=18)\n",
    "plt.text(0.8, 0.5, '$\\omega_0$', ha = 'center', va = 'center', fontsize=18)\n",
    "plt.yticks([0, 4, 8])\n",
    "\n",
    "omg = np.arange(-10-np.pi/4, 10+np.pi/4, 0.01)\n",
    "omg1 = np.array(omg) - (np.pi/4)*np.ones(len(omg))\n",
    "omg2 = np.array(omg) + (np.pi/4)*np.ones(len(omg))\n",
    "#W = 0.5*(np.sin((N1+1/2)*omg1)/np.sin((1/2)*omg1)) + 0.5*(np.sin((N1+1/2)*omg2)/np.sin((1/2)*omg2))\n",
    "W = 0.5*(np.sin((M/2)*omg1)/np.sin((1/2)*omg1))*np.exp(omg1*(-(M-1)/2)*1j) + 0.5*(np.sin((M/2)*omg2)/np.sin((1/2)*omg2))*np.exp(omg2*(-(M-1)/2)*1j)\n",
    "W_gain = abs(W)\n",
    "plt.plot(omg, W_gain, color='k')\n",
    "#\n",
    "\n",
    "plt.text(0, -1.5, '(b)', ha = 'center', va = 'center', fontsize=18)\n",
    "\n",
    "plt.subplots_adjust(left=None, bottom=0.2, right=None, top=None, wspace=0.25, hspace=None)\n",
    "plt.savefig('./figures/fig10.03.eps')\n",
    "plt.show()\n"
   ]
  },
  {
   "cell_type": "code",
   "execution_count": 23,
   "metadata": {
    "autoscroll": "json-false",
    "collapsed": false,
    "ein.tags": [
     "worksheet-0"
    ],
    "slideshow": {
     "slide_type": "-"
    }
   },
   "outputs": [
    {
     "data": {
      "text/plain": [
       "array([-11.57079633, -11.56079633, -11.55079633, ...,   9.97920367,\n         9.98920367,   9.99920367])"
      ]
     },
     "execution_count": 23,
     "metadata": {},
     "output_type": "execute_result"
    }
   ],
   "source": [
    "omg1 = np.array(omg) - (np.pi/4)*np.ones(len(omg))\n",
    "omg1"
   ]
  },
  {
   "cell_type": "code",
   "execution_count": 3,
   "metadata": {
    "autoscroll": "json-false",
    "collapsed": false,
    "ein.tags": [
     "worksheet-0"
    ],
    "slideshow": {
     "slide_type": "-"
    }
   },
   "outputs": [],
   "source": [
    "plt.close()\n"
   ]
  },
  {
   "cell_type": "code",
   "execution_count": 6,
   "metadata": {
    "autoscroll": "json-false",
    "collapsed": false,
    "ein.tags": [
     "worksheet-0"
    ],
    "slideshow": {
     "slide_type": "-"
    }
   },
   "outputs": [
    {
     "data": {
      "text/plain": [
       "[1, 0, 4]"
      ]
     },
     "execution_count": 6,
     "metadata": {},
     "output_type": "execute_result"
    }
   ],
   "source": [
    "tmp=[1,2,4]\n",
    "tmp[1] = 0\n",
    "tmp"
   ]
  },
  {
   "cell_type": "code",
   "execution_count": 4,
   "metadata": {
    "autoscroll": "json-false",
    "collapsed": false,
    "ein.tags": [
     "worksheet-0"
    ],
    "slideshow": {
     "slide_type": "-"
    }
   },
   "outputs": [],
   "source": [
    "plt.close()"
   ]
  }
 ],
 "metadata": {
  "kernelspec": {
   "display_name": "Python [Root]",
   "name": "Python [Root]"
  },
  "language_info": {
   "codemirror_mode": {
    "name": "ipython",
    "version": 3
   },
   "file_extension": ".py",
   "mimetype": "text/x-python",
   "name": "python",
   "nbconvert_exporter": "python",
   "pygments_lexer": "ipython3",
   "version": "3.5.2"
  },
  "name": "fig10.03.ipynb"
 },
 "nbformat": 4,
 "nbformat_minor": 0
}
