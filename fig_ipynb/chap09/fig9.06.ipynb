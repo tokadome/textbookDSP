{
 "cells": [
  {
   "cell_type": "code",
   "execution_count": 1,
   "metadata": {
    "autoscroll": "json-false",
    "collapsed": false,
    "ein.tags": [
     "worksheet-0"
    ],
    "slideshow": {
     "slide_type": "-"
    }
   },
   "outputs": [],
   "source": [
    "%matplotlib osx\n",
    "import matplotlib.pyplot as plt\n",
    "import matplotlib.lines as ln\n",
    "import numpy as np\n",
    "\n",
    "plt.close()\n",
    "\n",
    "plt.rcParams['font.family'] = 'Times New Roman'\n",
    "\n",
    "step = 1\n",
    "W_lb = 0\n",
    "W_ub = 31\n",
    "M = 32\n",
    "\n",
    "fig = plt.figure(figsize=(10,4),dpi=300)\n",
    "fig.patch.set_alpha(0.)\n",
    "\n",
    "ax1 =fig.add_subplot(121)\n",
    "\n",
    "n = np.arange(-10, 40, step)\n",
    "w = np.ones(len(n))\n",
    "\n",
    "l=len(n)\n",
    "for i in range(l):\n",
    "    if ((n[i] < W_lb) or (n[i] > W_ub)): w[i] = 'nan'\n",
    "markerline, stemlines, baseline = plt.stem(n,w, color='k')\n",
    "plt.setp(markerline, 'markerfacecolor', 'k')\n",
    "plt.setp(stemlines, 'color', 'k')\n",
    "plt.setp(baseline, 'color', 'k')\n",
    "\n",
    "plt.xlim([-10, 40])\n",
    "plt.ylim([0, 1.2])\n",
    "plt.axhline(0, color='k', linewidth=2)\n",
    "ax1.xaxis.set_label_coords(1.04, 0.05)\n",
    "ax1.yaxis.set_label_coords(0.1,1.01)\n",
    "plt.xlabel('$n$', fontsize=18)\n",
    "plt.ylabel('$w[n]$', fontsize=18, rotation=0)\n",
    "plt.xticks([-10, 0, 10, 20, 30, 40])\n",
    "plt.yticks([0, 1])\n",
    "plt.text(15, -0.25, '(a)', ha = 'center', va = 'center', fontsize=18)\n",
    "\n",
    "# (b)\n",
    "ax2 =fig.add_subplot(122)\n",
    "omg = np.arange(-3-np.pi/4, 3+np.pi/4, 0.00001)\n",
    "W = (np.sin((M/2)*omg)/np.sin((1/2)*omg))*np.exp(omg*(-(M-1)/2)*1j)\n",
    "W_gain = np.absolute(W)\n",
    "W_gain_max = np.max(W_gain)\n",
    "plt.plot(omg, 20*np.log10(W_gain/W_gain_max), color='k')\n",
    "#\n",
    "plt.xlim([-3.5, 3.5])\n",
    "plt.ylim([-103, 5])\n",
    "plt.axhline(0, color='k', linewidth=0.1)\n",
    "\n",
    "ax2.xaxis.set_label_coords(1.05, 0.05)\n",
    "ax2.yaxis.set_label_coords(0.4,1.01)\n",
    "plt.ylabel('$20\\ \\log_{10} (|W(\\omega)|/W_{max})$', fontsize=18, rotation=0)\n",
    "plt.xlabel('$\\omega$', fontsize=18, rotation=0)\n",
    "plt.xticks([0])\n",
    "plt.yticks([0, -20, -40, -60,-80,-100])\n",
    "plt.text(0, -125, '(b)', ha = 'center', va = 'center', fontsize=18)\n",
    "\n",
    "plt.subplots_adjust(left=None, bottom=0.2, right=None, top=None, wspace=0.25, hspace=None)\n",
    "plt.savefig('./figures/fig10.06.eps')\n",
    "plt.show()\n"
   ]
  },
  {
   "cell_type": "code",
   "execution_count": 3,
   "metadata": {
    "autoscroll": "json-false",
    "collapsed": false,
    "ein.tags": [
     "worksheet-0"
    ],
    "slideshow": {
     "slide_type": "-"
    }
   },
   "outputs": [],
   "source": [
    "plt.close()\n"
   ]
  },
  {
   "cell_type": "code",
   "execution_count": 103,
   "metadata": {
    "autoscroll": "json-false",
    "collapsed": false,
    "ein.tags": [
     "worksheet-0"
    ],
    "slideshow": {
     "slide_type": "-"
    }
   },
   "outputs": [
    {
     "name": "stdout",
     "output_type": "stream",
     "text": [
      "[ 3.+4.j  0.+1.j]\n",
      "[-13.12878308-15.20078446j   0.54030231 +0.84147098j]\n"
     ]
    }
   ],
   "source": [
    "tmp = np.array([3+4j,1j])\n",
    "test = np.exp(tmp)\n",
    "print(tmp)\n",
    "print(test)"
   ]
  },
  {
   "cell_type": "code",
   "execution_count": 20,
   "metadata": {
    "autoscroll": "json-false",
    "collapsed": false,
    "ein.tags": [
     "worksheet-0"
    ],
    "slideshow": {
     "slide_type": "-"
    }
   },
   "outputs": [
    {
     "name": "stdout",
     "output_type": "stream",
     "text": [
      "[-3.5 -2.5 -1.5 -0.5  0.5  1.5]\n",
      "[ 16.00000000 -8.62349420e-14j  15.99938001 -1.19997600e-01j\n",
      "  15.99752012 -2.39980801e-01j ...,  15.99651595 +2.84441750e-01j\n",
      "  15.99883530 +1.64467543e-01j  15.99991484 +4.44736004e-02j]\n"
     ]
    }
   ],
   "source": [
    "import numpy as np\n",
    "\n",
    "def win_rec(n, M=16, WB=0, fillzero=False):\n",
    "  '''Rectangular window.\n",
    "       n: discrete time. ndarray, int\n",
    "       M: window size; dafault = 16\n",
    "       WB: begin window; default = 0\n",
    "       fillzero: value out of window; default value = nan\n",
    "\n",
    "       return: rectangular window. ndarray'''\n",
    "  \n",
    "  l_n = len(n)\n",
    "  w = np.ones(l_n)\n",
    "  if (l_n <= 0):\n",
    "    print(\"Argument n seems to be null.\\n\")\n",
    "    return(None)\n",
    "\n",
    "  W_lb = WB\n",
    "  W_ub = M-1+WB\n",
    "  if (fillzero == False): s = np.nan\n",
    "  else: s = 0\n",
    "  for i in range(l_n):\n",
    "    if ((n[i] < W_lb) or (n[i] > W_ub)): w = s\n",
    "  return(w)\n",
    "\n",
    "def extract_by_win_rec(n, f, M=16, WB=0, fillzero=False):\n",
    "  '''Signal extraction by Rectangular window.\n",
    "       n: discrete time. ndarray, int\n",
    "       f: function of n. ndarray, float\n",
    "       M: window size; dafault = 16\n",
    "       WB: begin window; default = 0\n",
    "       fillzero: value out of window; default value = nan\n",
    "\n",
    "       return: windowed f. ndarray'''\n",
    "  \n",
    "  l_n = len(n)\n",
    "  l_f = len(f)\n",
    "  f_tmp = np.array(f)\n",
    "  if ((l_n <= 0) or (l_f <= 0)):\n",
    "    print(\"Arguments n or f seem to be null.\\n\")\n",
    "    return(None)\n",
    "  elif (l_n != l_f):\n",
    "    print(\"Length of n and f must be equal.\")\n",
    "    return(None)\n",
    "\n",
    "  W_lb = WB\n",
    "  W_ub = M-1+WB\n",
    "  if (fillzero == False): s = np.nan\n",
    "  else: s = 0\n",
    "  for i in range(l_n):\n",
    "    if ((n[i] < W_lb) or (n[i] > W_ub)): f_tmp[i] = s\n",
    "  return(f_tmp)\n",
    "\n",
    "def win_rec_spectral(M=16, omg_shift=0, l_range=-2*np.pi, r_range=2*np.pi, step=0.001):\n",
    "  '''Rectangular window.\n",
    "       M: window size; dafault = 16\n",
    "       omg_shift: shift spectral to frequency by omg_shift; dafault = 0\n",
    "       l_range= left of frequency range; default = -2*pi\n",
    "       r_range= right of frequency range; default = 2*pi\n",
    "       step: default=0.001\n",
    "\n",
    "       return: Spectral of recutanglar window. ndarray'''\n",
    "\n",
    "  omg = np.arange(l_range, r_range, step)\n",
    "  W = (np.sin((M/2)*(omg-omg_shift))/np.sin((1/2)*(omg-omg_shift)))*np.exp((omg-omg_shift)*(-(M-1)/2)*1j)  \n",
    "\n",
    "  return(W)\n",
    "  \n",
    "tmp = win_rec_spectral(16)\n",
    "print(omg)\n",
    "print(tmp)"
   ]
  },
  {
   "cell_type": "code",
   "execution_count": 10,
   "metadata": {
    "autoscroll": "json-false",
    "collapsed": false,
    "ein.tags": [
     "worksheet-0"
    ],
    "slideshow": {
     "slide_type": "-"
    }
   },
   "outputs": [
    {
     "name": "stdout",
     "output_type": "stream",
     "text": [
      "[-3 -2 -1  0  1  2]\n",
      "[-3.5 -2.5 -1.5 -0.5  0.5  1.5]\n"
     ]
    }
   ],
   "source": [
    "omg = np.arange(-3, 3, 1)\n",
    "print(omg)\n",
    "omg = omg - 0.5\n",
    "print(omg)"
   ]
  },
  {
   "cell_type": "code",
   "execution_count": 0,
   "metadata": {
    "autoscroll": "json-false",
    "collapsed": false,
    "ein.tags": [
     "worksheet-0"
    ],
    "slideshow": {
     "slide_type": "slide"
    }
   },
   "outputs": [],
   "source": []
  },
  {
   "cell_type": "code",
   "execution_count": 14,
   "metadata": {
    "autoscroll": "json-false",
    "collapsed": false,
    "ein.tags": [
     "worksheet-0"
    ],
    "slideshow": {
     "slide_type": "-"
    }
   },
   "outputs": [
    {
     "name": "stdout",
     "output_type": "stream",
     "text": [
      "[1 2 3 4 5 6]\n"
     ]
    }
   ],
   "source": [
    "n = np.array(range(-3,3,1))\n",
    "f = np.array(range(1,7,1))\n"
   ]
  }
 ],
 "metadata": {
  "kernelspec": {
   "display_name": "Python [Root]",
   "name": "Python [Root]"
  },
  "language_info": {
   "codemirror_mode": {
    "name": "ipython",
    "version": 3
   },
   "file_extension": ".py",
   "mimetype": "text/x-python",
   "name": "python",
   "nbconvert_exporter": "python",
   "pygments_lexer": "ipython3",
   "version": "3.5.2"
  },
  "name": "fig10.06.ipynb"
 },
 "nbformat": 4,
 "nbformat_minor": 0
}
