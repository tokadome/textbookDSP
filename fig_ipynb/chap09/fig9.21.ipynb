{
 "cells": [
  {
   "cell_type": "code",
   "execution_count": 1,
   "metadata": {
    "autoscroll": "json-false",
    "collapsed": false,
    "ein.tags": [
     "worksheet-0"
    ],
    "slideshow": {
     "slide_type": "-"
    }
   },
   "outputs": [],
   "source": [
    "%matplotlib osx\n",
    "import matplotlib.pyplot as plt\n",
    "import matplotlib.lines as ln\n",
    "import numpy as np\n",
    "plt.close()\n",
    "\n",
    "plt.rcParams['font.family'] = 'Times New Roman'\n",
    "\n",
    "fig = plt.figure(dpi=300)\n",
    "#fig = plt.figure()\n",
    "fig.patch.set_alpha(0.)\n",
    "\n",
    "#(a) Hanning window\n",
    "M = w_size = 13\n",
    "ax =fig.add_subplot(221)\n",
    "\n",
    "omg = np.arange(-np.pi, np.pi, 0.001)\n",
    "Wrec = (np.sin((M/2)*omg)/np.sin((1/2)*omg))*np.exp(omg*(-(M-1)/2)*1j)\n",
    "Wrec_l = (np.sin((M/2)*(omg-2*np.pi/M))/np.sin((1/2)*(omg-2*np.pi/M)))*np.exp((omg-2*np.pi/M)*(-(M-1)/2)*1j)\n",
    "Wrec_r = (np.sin((M/2)*(omg+2*np.pi/M))/np.sin((1/2)*(omg+2*np.pi/M)))*np.exp((omg+2*np.pi/M)*(-(M-1)/2)*1j)\n",
    "W = 0.5*Wrec - 0.25*Wrec_l - 0.25*Wrec_r\n",
    "\n",
    "H_s = np.exp(-1j*((w_size-1)/2)*omg)\n",
    "l=omg.size\n",
    "for i in range(l):\n",
    "    if ((omg[i] < -np.pi/2) or (omg[i] >= np.pi/2)): H_s[i] = 0\n",
    "H_s = H_s/len(H_s)\t# normalize H_s in order to convolute\n",
    "\n",
    "H_sw = np.convolve(W,H_s)\n",
    "\n",
    "plt.xlim([-np.pi, np.pi])\n",
    "plt.ylim([0, 1.2])\n",
    "plt.axhline(0, color='k', linewidth=2)\n",
    "ax.xaxis.set_label_coords(1.04, 0.12)\n",
    "ax.yaxis.set_label_coords(0.2, 1.02)\n",
    "plt.xlabel('$\\omega$', fontsize=18)\n",
    "plt.ylabel('$|H_{ws}(\\omega)|$', fontsize=18, rotation=0)\n",
    "plt.xticks([-3,0, 3])\n",
    "plt.yticks([0, 0.5, 1.0])\n",
    "omg2 = np.arange(-2*np.pi, 2*np.pi, 0.001)\n",
    "\n",
    "plt.plot(omg2, abs(H_sw), color='k')\n",
    "\n",
    "plt.text(0, -0.3, '(a)', ha = 'center', va = 'center', fontsize=18)\n",
    "\n",
    "###\n",
    "# (b) Hanning window\n",
    "M = w_size = 33\n",
    "ax =fig.add_subplot(222)\n",
    "\n",
    "omg = np.arange(-np.pi, np.pi, 0.001)\n",
    "Wrec = (np.sin((M/2)*omg)/np.sin((1/2)*omg))*np.exp(omg*(-(M-1)/2)*1j)\n",
    "Wrec_l = (np.sin((M/2)*(omg-2*np.pi/M))/np.sin((1/2)*(omg-2*np.pi/M)))*np.exp((omg-2*np.pi/M)*(-(M-1)/2)*1j)\n",
    "Wrec_r = (np.sin((M/2)*(omg+2*np.pi/M))/np.sin((1/2)*(omg+2*np.pi/M)))*np.exp((omg+2*np.pi/M)*(-(M-1)/2)*1j)\n",
    "W = 0.5*Wrec - 0.25*Wrec_l - 0.25*Wrec_r\n",
    "H_s = np.exp(-1j*((w_size-1)/2)*omg)\n",
    "l=omg.size\n",
    "for i in range(l):\n",
    "    if ((omg[i] < -np.pi/2) or (omg[i] >= np.pi/2)): H_s[i] = 0\n",
    "H_s = H_s/len(H_s)\t# normalize H_s in order to convolute\n",
    "\n",
    "H_sw = np.convolve(W,H_s)\n",
    "\n",
    "plt.xlim([-np.pi, np.pi])\n",
    "plt.ylim([0, 1.2])\n",
    "plt.axhline(0, color='k', linewidth=2)\n",
    "ax.xaxis.set_label_coords(1.04, 0.12)\n",
    "ax.yaxis.set_label_coords(0.2, 1.02)\n",
    "plt.xlabel('$\\omega$', fontsize=18)\n",
    "plt.ylabel('$|H_{ws}(\\omega)|$', fontsize=18, rotation=0)\n",
    "plt.xticks([-3,0, 3])\n",
    "plt.yticks([0, 0.5, 1.0])\n",
    "omg2 = np.arange(-2*np.pi, 2*np.pi, 0.001)\n",
    "\n",
    "plt.plot(omg2, abs(H_sw), color='k')\n",
    "\n",
    "plt.text(0, -0.3, '(b)', ha = 'center', va = 'center', fontsize=18)\n",
    "\n",
    "#(c) Hamming window\n",
    "M = w_size = 8\n",
    "ax =fig.add_subplot(223)\n",
    "\n",
    "omg = np.arange(-np.pi, np.pi, 0.001)\n",
    "Wrec = (np.sin((M/2)*omg)/np.sin((1/2)*omg))*np.exp(omg*(-(M-1)/2)*1j)\n",
    "Wrec_l = (np.sin((M/2)*(omg+2*np.pi/M))/np.sin((1/2)*(omg+2*np.pi/M)))*np.exp((omg+2*np.pi/M)*(-(M-1)/2)*1j)\n",
    "Wrec_r = (np.sin((M/2)*(omg-2*np.pi/M))/np.sin((1/2)*(omg-2*np.pi/M)))*np.exp((omg-2*np.pi/M)*(-(M-1)/2)*1j)\n",
    "W = 0.54*Wrec - 0.23*Wrec_l - 0.23*Wrec_r\n",
    "\n",
    "H_s = np.exp(-1j*((w_size-1)/2)*omg)\n",
    "l=omg.size\n",
    "for i in range(l):\n",
    "    if ((omg[i] < -np.pi/2) or (omg[i] >= np.pi/2)): H_s[i] = 0\n",
    "H_s = H_s/len(H_s)\t# normalize H_s in order to convolute\n",
    "\n",
    "H_sw = np.convolve(W,H_s)\n",
    "\n",
    "plt.xlim([-np.pi, np.pi])\n",
    "plt.ylim([0, 1.2])\n",
    "plt.axhline(0, color='k', linewidth=2)\n",
    "ax.xaxis.set_label_coords(1.04, 0.12)\n",
    "ax.yaxis.set_label_coords(0.2, 1.02)\n",
    "plt.xlabel('$\\omega$', fontsize=18)\n",
    "plt.ylabel('$|H_{ws}(\\omega)|$', fontsize=18, rotation=0)\n",
    "plt.xticks([-3,0, 3])\n",
    "plt.yticks([0, 0.5, 1.0])\n",
    "omg2 = np.arange(-2*np.pi, 2*np.pi, 0.001)\n",
    "\n",
    "plt.plot(omg2, abs(H_sw), color='k')\n",
    "\n",
    "plt.text(0, -0.3, '(c)', ha = 'center', va = 'center', fontsize=18)\n",
    "\n",
    "###\n",
    "# (d) Hamming window\n",
    "M = w_size = 32\n",
    "ax =fig.add_subplot(224)\n",
    "\n",
    "omg = np.arange(-np.pi, np.pi, 0.001)\n",
    "Wrec = (np.sin((M/2)*omg)/np.sin((1/2)*omg))*np.exp(omg*(-(M-1)/2)*1j)\n",
    "Wrec_l = (np.sin((M/2)*(omg+2*np.pi/M))/np.sin((1/2)*(omg+2*np.pi/M)))*np.exp((omg+2*np.pi/M)*(-(M-1)/2)*1j)\n",
    "Wrec_r = (np.sin((M/2)*(omg-2*np.pi/M))/np.sin((1/2)*(omg-2*np.pi/M)))*np.exp((omg-2*np.pi/M)*(-(M-1)/2)*1j)\n",
    "W = 0.54*Wrec - 0.23*Wrec_l - 0.23*Wrec_r\n",
    "H_s = np.exp(-1j*((w_size-1)/2)*omg)\n",
    "l=omg.size\n",
    "for i in range(l):\n",
    "    if ((omg[i] < -np.pi/2) or (omg[i] >= np.pi/2)): H_s[i] = 0\n",
    "H_s = H_s/len(H_s)\t# normalize H_s in order to convolute\n",
    "\n",
    "H_sw = np.convolve(W,H_s)\n",
    "\n",
    "plt.xlim([-np.pi, np.pi])\n",
    "plt.ylim([0, 1.2])\n",
    "plt.axhline(0, color='k', linewidth=2)\n",
    "ax.xaxis.set_label_coords(1.04, 0.12)\n",
    "ax.yaxis.set_label_coords(0.2, 1.02)\n",
    "plt.xlabel('$\\omega$', fontsize=18)\n",
    "plt.ylabel('$|H_{ws}(\\omega)|$', fontsize=18, rotation=0)\n",
    "plt.xticks([-3,0, 3])\n",
    "plt.yticks([0, 0.5, 1.0])\n",
    "omg2 = np.arange(-2*np.pi, 2*np.pi, 0.001)\n",
    "\n",
    "plt.plot(omg2, abs(H_sw), color='k')\n",
    "\n",
    "plt.text(0, -0.3, '(d)', ha = 'center', va = 'center', fontsize=18)\n",
    "\n",
    "plt.subplots_adjust(left=None, bottom=None, right=None, top=None, wspace=0.3, hspace=0.6)\n",
    "plt.savefig('./figures/fig10.21.eps')\n",
    "plt.show()\n"
   ]
  },
  {
   "cell_type": "code",
   "execution_count": 72,
   "metadata": {
    "autoscroll": "json-false",
    "collapsed": false,
    "ein.tags": [
     "worksheet-0"
    ],
    "slideshow": {
     "slide_type": "-"
    }
   },
   "outputs": [
    {
     "data": {
      "text/plain": [
       "6284"
      ]
     },
     "execution_count": 72,
     "metadata": {},
     "output_type": "execute_result"
    },
    {
     "name": "stdout",
     "output_type": "stream",
     "text": [
      "float64\n"
     ]
    }
   ],
   "source": [
    "plt.close()\n",
    "omg = np.arange(-np.pi, np.pi, 0.001)\n",
    "print(omg.dtype)\n",
    "omg.size"
   ]
  },
  {
   "cell_type": "code",
   "execution_count": 0,
   "metadata": {
    "autoscroll": "json-false",
    "collapsed": false,
    "ein.tags": [
     "worksheet-0"
    ],
    "slideshow": {
     "slide_type": "-"
    }
   },
   "outputs": [],
   "source": [
    "t = np.array([1,2,3])\n",
    "t1 = t - 2*np.ones(len(t))\n",
    "print(t1)"
   ]
  },
  {
   "cell_type": "code",
   "execution_count": 27,
   "metadata": {
    "autoscroll": "json-false",
    "collapsed": false,
    "ein.tags": [
     "worksheet-0"
    ],
    "slideshow": {
     "slide_type": "-"
    }
   },
   "outputs": [
    {
     "name": "stdout",
     "output_type": "stream",
     "text": [
      "4.47213595499958\n",
      "4.472135955\n",
      "-0.197650874837\n"
     ]
    }
   ],
   "source": [
    "a = 0+1j\n",
    "b = 2+3j\n",
    "print(abs(a+b))\n",
    "print(np.sqrt(4+16))\n",
    "print(np.sinc(np.pi/2))"
   ]
  }
 ],
 "metadata": {
  "kernelspec": {
   "display_name": "Python [Root]",
   "name": "Python [Root]"
  },
  "language_info": {
   "codemirror_mode": {
    "name": "ipython",
    "version": 3
   },
   "file_extension": ".py",
   "mimetype": "text/x-python",
   "name": "python",
   "nbconvert_exporter": "python",
   "pygments_lexer": "ipython3",
   "version": "3.5.2"
  },
  "name": "fig10.21.ipynb"
 },
 "nbformat": 4,
 "nbformat_minor": 0
}
