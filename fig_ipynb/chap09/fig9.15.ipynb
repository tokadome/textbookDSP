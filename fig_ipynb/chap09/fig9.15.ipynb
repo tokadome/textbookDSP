{
 "cells": [
  {
   "cell_type": "code",
   "execution_count": null,
   "metadata": {
    "autoscroll": false,
    "collapsed": false,
    "ein.hycell": false,
    "ein.tags": "worksheet-0",
    "slideshow": {
     "slide_type": "-"
    }
   },
   "outputs": [],
   "source": [
    "%matplotlib inline\n",
    "#%matplotlib osx\n",
    "\n",
    "import matplotlib.pyplot as plt\n",
    "import matplotlib.lines as ln\n",
    "import numpy as np\n",
    "\n",
    "plt.rcParams['font.family'] = 'Times New Roman'\n",
    "plt.rcParams['mathtext.fontset'] = 'cm'\n",
    "\n",
    "step = 0.001\n",
    "\n",
    "fig = plt.figure(dpi=300)\n",
    "fig.patch.set_alpha(0.)\n",
    "\n",
    "#(a)\n",
    "ax1 =fig.add_subplot(311)\n",
    "t = np.arange(-5, 10, step)\n",
    "y1 = np.cos(np.pi*t)\n",
    "y2 = np.cos(np.pi*(t-0.3))\n",
    "\n",
    "plt.xlim([-0.2, 6.2])\n",
    "plt.ylim([-1.5, 1.5])\n",
    "plt.axhline(0, color='k', linewidth=2)\n",
    "ax1.xaxis.set_label_coords(1.02, 0.12)\n",
    "ax1.yaxis.set_label_coords(0.25,1.02)\n",
    "plt.xlabel('$t$', fontsize=18)\n",
    "plt.ylabel('$x_1(t)$ and $y_1(t)$ = $x_1(t-0.3)$', fontsize=18, rotation=0)\n",
    "plt.xticks([0,1,2,3,4,5,6])\n",
    "plt.yticks([-1, 0, 1])\n",
    "plt.plot(t,y1,':',color='k')\n",
    "plt.plot(t,y2,color='k')\n",
    "\n",
    "plt.text(3, -2.8, '(a)', ha = 'center', va = 'center', fontsize=18)\n",
    "\n",
    "######\n",
    "# (b)\n",
    "ax1 =fig.add_subplot(312)\n",
    "\n",
    "t = np.arange(-5, 10, step)\n",
    "y1 = np.cos(2*np.pi*t)\n",
    "y2 = np.cos(2*np.pi*(t-0.8))\n",
    "\n",
    "plt.xlim([-0.2, 6.2])\n",
    "plt.ylim([-1.5, 1.5])\n",
    "plt.axhline(0, color='k', linewidth=2)\n",
    "ax1.xaxis.set_label_coords(1.02, 0.12)\n",
    "ax1.yaxis.set_label_coords(0.25,1.02)\n",
    "plt.xlabel('$t$', fontsize=18)\n",
    "plt.ylabel('$x_2(t)$ and $y_2(t)$ = $x_2(t-0.8)$', fontsize=18, rotation=0)\n",
    "plt.xticks([0,1,2,3,4,5,6])\n",
    "plt.yticks([-1, 0, 1])\n",
    "plt.plot(t,y1, ':', color='k')\n",
    "plt.plot(t,y2,color='k')\n",
    "\n",
    "plt.text(3, -2.8, '(b)', ha = 'center', va = 'center', fontsize=18)\n",
    "\n",
    "\n",
    "#####\n",
    "# (c)\n",
    "ax1 =fig.add_subplot(313)\n",
    "t = np.arange(-5, 10, step)\n",
    "x1 = np.cos(np.pi*t)\n",
    "x2 = np.cos(2*np.pi*t)\n",
    "y = x1+x2\n",
    "\n",
    "x1 = np.cos(np.pi*(t-0.3))\n",
    "x2 = np.cos(2*np.pi*(t-0.8))\n",
    "y2 = x1+x2\n",
    "\n",
    "plt.xlim([-0.2, 6.2])\n",
    "plt.ylim([-2.5, 3.0])\n",
    "plt.axhline(0, color='k', linewidth=2)\n",
    "ax1.xaxis.set_label_coords(1.02, 0.12)\n",
    "ax1.yaxis.set_label_coords(0.45,1.02)\n",
    "plt.xlabel('$t$', fontsize=18)\n",
    "plt.ylabel('$x(t)$ = $x_1(t)$+$x_2(t)$ and $y(t)$ = $y_1(t-0.3)$+$y_2(t-0.8)$', fontsize=18, rotation=0)\n",
    "plt.xticks([0,1,2,3,4,5,6])\n",
    "plt.yticks([-2, -1, 0, 1, 2])\n",
    "plt.plot(t,y,':',color='k')\n",
    "plt.plot(t,y2,color='k')\n",
    "\n",
    "plt.text(3, -4.8, '(c)', ha = 'center', va = 'center', fontsize=18)\n",
    "plt.subplots_adjust(left=None, bottom=None, right=None, top=None, wspace=None, hspace=1.0)\n",
    "plt.savefig('./figures/fig9.15.png')\n",
    "#plt.savefig('./figures/fig9.15.eps')\n",
    "plt.show()"
   ]
  },
  {
   "cell_type": "code",
   "execution_count": null,
   "metadata": {
    "autoscroll": false,
    "collapsed": false,
    "ein.hycell": false,
    "ein.tags": "worksheet-0",
    "slideshow": {
     "slide_type": "-"
    }
   },
   "outputs": [],
   "source": [
    "plt.close()"
   ]
  }
 ],
 "metadata": {
  "kernelspec": {
   "display_name": "Python [Root]",
   "name": "Python [Root]"
  },
  "language_info": {
   "codemirror_mode": {
    "name": "ipython",
    "version": 3
   },
   "file_extension": ".py",
   "mimetype": "text/x-python",
   "name": "python",
   "nbconvert_exporter": "python",
   "pygments_lexer": "ipython3",
   "version": "3.5.2"
  },
  "name": "fig9.15.ipynb"
 },
 "nbformat": 4,
 "nbformat_minor": 0
}
