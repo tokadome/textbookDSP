{
 "cells": [
  {
   "cell_type": "code",
   "execution_count": 1,
   "metadata": {
    "autoscroll": "json-false",
    "collapsed": false,
    "ein.tags": [
     "worksheet-0"
    ],
    "slideshow": {
     "slide_type": "-"
    }
   },
   "outputs": [
    {
     "name": "stderr",
     "output_type": "stream",
     "text": [
      "/Users/houmi/.pyenv/versions/anaconda3-4.1.0/lib/python3.5/site-packages/ipykernel/__main__.py:38: RuntimeWarning: divide by zero encountered in true_divide\n",
      "/Users/houmi/.pyenv/versions/anaconda3-4.1.0/lib/python3.5/site-packages/ipykernel/__main__.py:38: RuntimeWarning: invalid value encountered in multiply\n"
     ]
    }
   ],
   "source": [
    "%matplotlib osx\n",
    "import matplotlib.pyplot as plt\n",
    "import matplotlib.lines as ln\n",
    "import numpy as np\n",
    "plt.close()\n",
    "\n",
    "plt.rcParams['font.family'] = 'Times New Roman'\n",
    "#plt.plot(np.arange(10))                                                                                                          \n",
    "N=10\n",
    "N1 = 1\n",
    "step = 2*np.pi*N1/N\n",
    "W_lb = 2.8\n",
    "W_ub = 6.0\n",
    "Y_cut = 0.2\n",
    "\n",
    "fig = plt.figure(dpi=300)\n",
    "ax1 =fig.add_subplot(211)\n",
    "plt.xlim([0, 10])\n",
    "plt.ylim([-0.005, 0.27])\n",
    "plt.axhline(0, color='k', linewidth=2)\n",
    "#ax1 = plt.gca()\n",
    "ax1.xaxis.set_label_coords(1.0, -0.01)\n",
    "ax1.yaxis.set_label_coords(0.02,0.9)\n",
    "plt.xlabel('$n$', fontsize=18)\n",
    "plt.ylabel('$x[n]$', fontsize=18, rotation=0)\n",
    "plt.xticks(range(0),())\n",
    "plt.yticks(range(0),())\n",
    "#ax.spines['left'].set_position('center')\n",
    "#ax.spines['bottom'].set_position('center')\n",
    "ax1.spines['right'].set_color('none')\n",
    "ax1.spines['left'].set_color('none')\n",
    "ax1.spines['bottom'].set_color('none')\n",
    "ax1.spines['top'].set_color('none')\n",
    "#ax.spines['left'].set_smart_bounds(True)\n",
    "#ax.spines['bottom'].set_smart_bounds(True)\n",
    "\n",
    "m = np.arange(0.0, 10.0, step)\n",
    "cm = (1/(m*np.pi))*np.abs(np.sin((2*np.pi*m*N1)/N))+0.05\n",
    "x= [W_lb, W_ub]\n",
    "Y = [Y_cut, Y_cut]\n",
    "\n",
    "markerline, stemlines, baseline = plt.stem(m,cm, color='k')\n",
    "plt.setp(markerline, 'markerfacecolor', 'k')\n",
    "plt.setp(stemlines, 'color', 'k')\n",
    "plt.setp(baseline, 'color', 'k')\n",
    "x= [W_lb, W_ub]\n",
    "Y = [Y_cut, Y_cut]\n",
    "plt.plot(x,Y,'k--')\n",
    "x= [W_lb, W_lb]\n",
    "Y = [0, Y_cut]\n",
    "plt.plot(x,Y,'k--')\n",
    "x= [W_ub, W_ub]\n",
    "Y = [0, Y_cut]\n",
    "plt.plot(x,Y,'k--')\n",
    "plt.text(5.5, 0.22, '$w[n]$', ha = 'center', va = 'center', fontsize=18)\n",
    "plt.text(5, -0.04, '(a)', ha = 'center', va = 'center', fontsize=18)\n",
    "\n",
    "ax2 =fig.add_subplot(212)\n",
    "#plt.subplot(212)\n",
    "plt.xlim([0, 10])\n",
    "plt.ylim([-0.005, 0.27])\n",
    "plt.axhline(0, color='k', linewidth=2)\n",
    "#ax2 = plt.gca()\n",
    "ax2.xaxis.set_label_coords(1.0, -0.01)\n",
    "ax2.yaxis.set_label_coords(0.2,0.5)\n",
    "plt.ylabel('$x[n] \\cdot w[n]$', fontsize=18, rotation=0)\n",
    "plt.xlabel('$n$', fontsize=18, rotation=0)\n",
    "plt.xticks(range(0),())\n",
    "plt.yticks(range(0),())\n",
    "ax2.spines['right'].set_color('none')\n",
    "ax2.spines['left'].set_color('none')\n",
    "ax2.spines['bottom'].set_color('none')\n",
    "ax2.spines['top'].set_color('none')\n",
    "\n",
    "#m = np.arange(0.0, 10.0, step)\n",
    "#cm = (1/(m*np.pi))*np.abs(np.sin((2*np.pi*m*N1)/N))+0.05\n",
    "    \n",
    "l=len(m)\n",
    "for i in range(l):\n",
    "    if ((m[i] < W_lb) or (m[i] > W_ub)): cm[i] = 'nan'\n",
    "markerline, stemlines, baseline = plt.stem(m,cm, color='k')\n",
    "plt.setp(markerline, 'markerfacecolor', 'k')\n",
    "plt.setp(stemlines, 'color', 'k')\n",
    "plt.setp(baseline, 'color', 'k')\n",
    "plt.text(5, -0.04, '(b)', ha = 'center', va = 'center', fontsize=18)\n",
    "\n",
    "plt.subplots_adjust(left=None, bottom=None, right=None, top=None, wspace=0, hspace=0.35)\n",
    "plt.savefig('./figures/fig10.01.eps')\n",
    "plt.show()\n"
   ]
  },
  {
   "cell_type": "code",
   "execution_count": 3,
   "metadata": {
    "autoscroll": "json-false",
    "collapsed": false,
    "ein.tags": [
     "worksheet-0"
    ],
    "slideshow": {
     "slide_type": "-"
    }
   },
   "outputs": [],
   "source": [
    "plt.close()\n"
   ]
  },
  {
   "cell_type": "code",
   "execution_count": 130,
   "metadata": {
    "autoscroll": "json-false",
    "collapsed": false,
    "ein.tags": [
     "worksheet-0"
    ],
    "slideshow": {
     "slide_type": "-"
    }
   },
   "outputs": [
    {
     "data": {
      "text/plain": [
       "[1, 0, 3]"
      ]
     },
     "execution_count": 130,
     "metadata": {},
     "output_type": "execute_result"
    }
   ],
   "source": [
    "tmp=[1,2,3]\n",
    "tmp[1] = 0\n",
    "tmp"
   ]
  },
  {
   "cell_type": "code",
   "execution_count": 84,
   "metadata": {
    "autoscroll": "json-false",
    "collapsed": false,
    "ein.tags": [
     "worksheet-0"
    ],
    "slideshow": {
     "slide_type": "-"
    }
   },
   "outputs": [],
   "source": [
    "plt.close()"
   ]
  }
 ],
 "metadata": {
  "kernelspec": {
   "display_name": "Python [Root]",
   "name": "Python [Root]"
  },
  "name": "fig10.01.ipynb"
 },
 "nbformat": 4,
 "nbformat_minor": 0
}
