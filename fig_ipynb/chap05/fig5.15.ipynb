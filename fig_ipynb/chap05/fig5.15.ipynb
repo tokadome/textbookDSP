{
 "cells": [
  {
   "cell_type": "code",
   "execution_count": 1,
   "metadata": {
    "autoscroll": "json-false",
    "collapsed": false,
    "ein.tags": [
     "worksheet-0"
    ],
    "slideshow": {
     "slide_type": "-"
    }
   },
   "outputs": [],
   "source": [
    "%matplotlib osx\n",
    "import matplotlib.pyplot as plt\n",
    "import matplotlib.lines as ln\n",
    "import numpy as np\n",
    "plt.close()\n",
    "\n",
    "plt.rcParams['font.family'] = 'Times New Roman'\n",
    "\n",
    "step = 0.01\n",
    "\n",
    "fig = plt.figure(dpi=300)\n",
    "#fig = plt.figure()\n",
    "fig.patch.set_alpha(0.)\n",
    "\n",
    "N1 = 2\n",
    "ax =fig.add_subplot(111)\n",
    "\n",
    "Krange = 5\n",
    "\n",
    "omega = np.arange(-Krange, Krange, step)\n",
    "X = np.sin(omega*(N1+1/2))/np.sin(omega/2)\n",
    "#X[0:2*Krange:N] = (2*N1+1)/N\n",
    "\n",
    "plt.xlim([-Krange, Krange])\n",
    "plt.ylim([-2, 6])\n",
    "plt.axhline(0, color='k', linewidth=2)\n",
    "ax.xaxis.set_label_coords(1.03, 0.06)\n",
    "ax.yaxis.set_label_coords(0.05,1.02)\n",
    "plt.xlabel('$\\omega$', fontsize=18)\n",
    "plt.ylabel('$X(\\omega)$', fontsize=18, rotation=0)\n",
    "#plt.xticks([0,1,2,3,4,5,6])\n",
    "plt.yticks([-2, 0, 2, 4, 6])\n",
    "\n",
    "plt.plot(omega,X,color='k')\n",
    "#markerline, stemlines, baseline = plt.stem(k,c_k, color='k')\n",
    "#plt.setp(markerline, 'markerfacecolor', 'k')\n",
    "#plt.setp(stemlines, 'color', 'k')\n",
    "#plt.setp(baseline, 'color', 'k')\n",
    "\n",
    "plt.subplots_adjust(left=None, bottom=None, right=None, top=None, wspace=None, hspace=None)\n",
    "plt.savefig('./figures/fig5.15.eps')\n",
    "plt.show()\n"
   ]
  },
  {
   "cell_type": "code",
   "execution_count": 59,
   "metadata": {
    "autoscroll": "json-false",
    "collapsed": false,
    "ein.tags": [
     "worksheet-0"
    ],
    "slideshow": {
     "slide_type": "-"
    }
   },
   "outputs": [],
   "source": [
    "plt.close()\n"
   ]
  },
  {
   "cell_type": "code",
   "execution_count": 0,
   "metadata": {
    "autoscroll": "json-false",
    "collapsed": false,
    "ein.tags": [
     "worksheet-0"
    ],
    "slideshow": {
     "slide_type": "-"
    }
   },
   "outputs": [],
   "source": []
  },
  {
   "cell_type": "code",
   "execution_count": 0,
   "metadata": {
    "autoscroll": "json-false",
    "collapsed": false,
    "ein.tags": [
     "worksheet-0"
    ],
    "slideshow": {
     "slide_type": "-"
    }
   },
   "outputs": [],
   "source": []
  }
 ],
 "metadata": {
  "kernelspec": {
   "display_name": "Python [Root]",
   "name": "Python [Root]"
  },
  "language_info": {
   "codemirror_mode": {
    "name": "ipython",
    "version": 3
   },
   "file_extension": ".py",
   "mimetype": "text/x-python",
   "name": "python",
   "nbconvert_exporter": "python",
   "pygments_lexer": "ipython3",
   "version": "3.5.2"
  },
  "name": "fig5.15.ipynb"
 },
 "nbformat": 4,
 "nbformat_minor": 0
}
