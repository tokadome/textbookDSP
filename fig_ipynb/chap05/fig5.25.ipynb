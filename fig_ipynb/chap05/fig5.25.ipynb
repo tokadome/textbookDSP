{
 "cells": [
  {
   "cell_type": "code",
   "execution_count": 1,
   "metadata": {
    "autoscroll": "json-false",
    "collapsed": false,
    "ein.tags": [
     "worksheet-0"
    ],
    "slideshow": {
     "slide_type": "-"
    }
   },
   "outputs": [],
   "source": [
    "%matplotlib osx\n",
    "import matplotlib.pyplot as plt\n",
    "import matplotlib.lines as ln\n",
    "import numpy as np\n",
    "plt.close()\n",
    "\n",
    "plt.rcParams['font.family'] = 'Times New Roman'\n",
    "\n",
    "step = 0.01\n",
    "\n",
    "fig = plt.figure(figsize=(10,5), dpi=300)\n",
    "#fig = plt.figure(figsize=(10,5))\n",
    "fig.patch.set_alpha(0.)\n",
    "\n",
    "N = 16\n",
    "a = 0.5\n",
    "OmegaRange = 2*np.pi \n",
    "omega = np.arange(-OmegaRange, OmegaRange, step)\n",
    "\n",
    "# (a)\n",
    "ax =fig.add_subplot(211)\n",
    "\n",
    "Xabs = np.sqrt(1+a**(2*N)-2*a**N*np.cos(omega*N))/(np.sqrt(1-2*a*np.cos(omega)+a*a))\n",
    "\n",
    "plt.xlim([-OmegaRange, OmegaRange])\n",
    "plt.ylim([0, 2.4])\n",
    "plt.axhline(0, color='k', linewidth=2)\n",
    "ax.xaxis.set_label_coords(1.03, 0.2)\n",
    "ax.yaxis.set_label_coords(0.08,1.02)\n",
    "plt.xlabel('$\\omega$', fontsize=18)\n",
    "plt.ylabel('$|X(\\omega)|$', fontsize=18, rotation=0)\n",
    "#plt.xticks([0,1,2,3,4,5,6])\n",
    "plt.yticks([0, 1, 2])\n",
    "\n",
    "plt.plot(omega, Xabs, color='k')\n",
    "\n",
    "plt.text(0, -0.7, '(a)', ha = 'center', va = 'center', fontsize=18)\n",
    "\n",
    "# (b)\n",
    "ax =fig.add_subplot(212)\n",
    "\n",
    "k = np.arange(0,N,1)\n",
    "Xabs = (1-a**N)/(np.sqrt(1-2*a*np.cos(2*np.pi*k/N)+a*a))\n",
    "\n",
    "Krange = OmegaRange*N/(2*np.pi)\n",
    "plt.xlim([-Krange, Krange])\n",
    "plt.ylim([0, 2.4])\n",
    "plt.axhline(0, color='k', linewidth=2)\n",
    "ax.xaxis.set_label_coords(1.03, 0.2)\n",
    "ax.yaxis.set_label_coords(0.08,1.02)\n",
    "plt.xlabel('$k$', fontsize=18)\n",
    "plt.ylabel('$|\\\\tilde{X}(k)|$', fontsize=18, rotation=0)\n",
    "#plt.xticks([0,1,2,3,4,5,6])\n",
    "plt.yticks([0, 1, 2])\n",
    "\n",
    "markerline, stemlines, baseline = plt.stem(k,Xabs, color='k')\n",
    "plt.setp(markerline, 'markerfacecolor', 'k')\n",
    "plt.setp(stemlines, 'color', 'k')\n",
    "plt.setp(baseline, 'color', 'k')\n",
    "\n",
    "plt.text(0, -0.7, '(b)', ha = 'center', va = 'center', fontsize=18)\n",
    "\n",
    "plt.subplots_adjust(left=None, bottom=0.15, right=None, top=None, wspace=None, hspace=0.6)\n",
    "plt.savefig('./figures/fig5.25.eps')\n",
    "plt.show()\n"
   ]
  },
  {
   "cell_type": "code",
   "execution_count": 59,
   "metadata": {
    "autoscroll": "json-false",
    "collapsed": false,
    "ein.tags": [
     "worksheet-0"
    ],
    "slideshow": {
     "slide_type": "-"
    }
   },
   "outputs": [],
   "source": [
    "plt.close()\n"
   ]
  },
  {
   "cell_type": "code",
   "execution_count": 0,
   "metadata": {
    "autoscroll": "json-false",
    "collapsed": false,
    "ein.tags": [
     "worksheet-0"
    ],
    "slideshow": {
     "slide_type": "-"
    }
   },
   "outputs": [],
   "source": []
  },
  {
   "cell_type": "code",
   "execution_count": 0,
   "metadata": {
    "autoscroll": "json-false",
    "collapsed": false,
    "ein.tags": [
     "worksheet-0"
    ],
    "slideshow": {
     "slide_type": "-"
    }
   },
   "outputs": [],
   "source": []
  }
 ],
 "metadata": {
  "kernelspec": {
   "display_name": "Python [Root]",
   "name": "Python [Root]"
  },
  "language_info": {
   "codemirror_mode": {
    "name": "ipython",
    "version": 3
   },
   "file_extension": ".py",
   "mimetype": "text/x-python",
   "name": "python",
   "nbconvert_exporter": "python",
   "pygments_lexer": "ipython3",
   "version": "3.5.2"
  },
  "name": "fig5.25.ipynb"
 },
 "nbformat": 4,
 "nbformat_minor": 0
}
