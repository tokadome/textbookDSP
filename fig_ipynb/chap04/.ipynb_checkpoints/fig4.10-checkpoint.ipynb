{
 "cells": [
  {
   "cell_type": "code",
   "execution_count": null,
   "metadata": {
    "autoscroll": false,
    "collapsed": false,
    "ein.hycell": false,
    "ein.tags": "worksheet-0",
    "slideshow": {
     "slide_type": "-"
    }
   },
   "outputs": [],
   "source": [
    "#%matplotlib osx\n",
    "%matplotlib inline\n",
    "\n",
    "import matplotlib.pyplot as plt\n",
    "import matplotlib.lines as ln\n",
    "import numpy as np\n",
    "plt.close()\n",
    "\n",
    "plt.rcParams['font.family'] = 'Times New Roman'\n",
    "\n",
    "step = 0.01\n",
    "\n",
    "fig = plt.figure(figsize=(10,4),dpi=300)\n",
    "#fig = plt.figure(figsize=(10,4))\n",
    "fig.patch.set_alpha(0.)\n",
    "\n",
    "#(a)\n",
    "ax =fig.add_subplot(111)\n",
    "\n",
    "omega = 2\n",
    "theta = 0.0\n",
    "t = np.arange(-5, 5, step)\n",
    "x = 1/2 + (2/np.pi)*(np.sin(omega*(t-theta)) + (1/3)*np.sin(3*omega*(t-theta)) + (1/5)*np.sin(5*omega*(t-theta)))\n",
    "\n",
    "plt.xlim([-5, 5])\n",
    "plt.ylim([-0.2, 1.2])\n",
    "plt.axhline(0, color='k', linewidth=2)\n",
    "ax.xaxis.set_label_coords(1.02, 0.2)\n",
    "ax.yaxis.set_label_coords(0.05,1.02)\n",
    "plt.xlabel('$t$', fontsize=18)\n",
    "plt.ylabel('$f(t)$', fontsize=18, rotation=0)\n",
    "#plt.xticks([0,1,2,3,4,5,6])\n",
    "plt.yticks([0, 1])\n",
    "\n",
    "plt.plot(t, x, color='k')\n",
    "\n",
    "plt.subplots_adjust(left=None, bottom=None, right=None, top=None, wspace=None, hspace=1.0)\n",
    "plt.savefig('./figures/fig4.10.eps')\n",
    "plt.show()\n"
   ]
  },
  {
   "cell_type": "code",
   "execution_count": 59,
   "metadata": {
    "autoscroll": false,
    "collapsed": false,
    "ein.hycell": false,
    "ein.tags": "worksheet-0",
    "slideshow": {
     "slide_type": "-"
    }
   },
   "outputs": [],
   "source": [
    "plt.close()\n"
   ]
  },
  {
   "cell_type": "code",
   "execution_count": 0,
   "metadata": {
    "autoscroll": false,
    "collapsed": false,
    "ein.hycell": false,
    "ein.tags": "worksheet-0",
    "slideshow": {
     "slide_type": "-"
    }
   },
   "outputs": [],
   "source": []
  },
  {
   "cell_type": "code",
   "execution_count": 0,
   "metadata": {
    "autoscroll": false,
    "collapsed": false,
    "ein.hycell": false,
    "ein.tags": "worksheet-0",
    "slideshow": {
     "slide_type": "-"
    }
   },
   "outputs": [],
   "source": []
  }
 ],
 "metadata": {
  "kernelspec": {
   "display_name": "Python [Root]",
   "name": "Python [Root]"
  },
  "language_info": {
   "codemirror_mode": {
    "name": "ipython",
    "version": 3
   },
   "file_extension": ".py",
   "mimetype": "text/x-python",
   "name": "python",
   "nbconvert_exporter": "python",
   "pygments_lexer": "ipython3",
   "version": "3.5.2"
  },
  "name": "fig4.10.ipynb"
 },
 "nbformat": 4,
 "nbformat_minor": 0
}
