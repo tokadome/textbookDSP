{
 "cells": [
  {
   "cell_type": "code",
   "execution_count": null,
   "metadata": {
    "autoscroll": false,
    "collapsed": false,
    "ein.hycell": false,
    "ein.tags": "worksheet-0",
    "slideshow": {
     "slide_type": "-"
    }
   },
   "outputs": [],
   "source": [
    "#%matplotlib osx\n",
    "%matplotlib inline\n",
    "\n",
    "import matplotlib.pyplot as plt\n",
    "import matplotlib.lines as ln\n",
    "import numpy as np\n",
    "plt.close()\n",
    "\n",
    "plt.rcParams['font.family'] = 'Times New Roman'\n",
    "\n",
    "step = 0.01\n",
    "\n",
    "fig = plt.figure(dpi=300)\n",
    "#fig = plt.figure()\n",
    "fig.patch.set_alpha(0.)\n",
    "\n",
    "#(a)\n",
    "x = np.arange(-7, 20, step)\n",
    "#x = np.cos(8*np.pi*t)+0.5*np.cos(7.2*np.pi*t)+0.25*np.cos(2*np.pi*t)\n",
    "\n",
    "ax =fig.add_subplot(321)\n",
    "plt.xlim([-7, 20])\n",
    "plt.ylim([0, 7])\n",
    "plt.axhline(0, color='k', linewidth=2)\n",
    "ax.xaxis.set_label_coords(1.04, 0.12)\n",
    "ax.yaxis.set_label_coords(0.05,1.02)\n",
    "plt.xlabel('$x$', fontsize=18)\n",
    "plt.ylabel('$y$', fontsize=18, rotation=0)\n",
    "#plt.xticks(range(0),())\n",
    "plt.yticks([0, 3, 6])\n",
    "plt.plot([-7, 20], [np.pi, np.pi], color='k')\n",
    "\n",
    "plt.text(7, -2.5, '(a)', ha = 'center', va = 'center', fontsize=18)\n",
    "\n",
    "######\n",
    "# (b)\n",
    "ax =fig.add_subplot(322)\n",
    "\n",
    "x = np.arange(-7, 20, step)\n",
    "y = np.pi - 2*np.sin(x)\n",
    "\n",
    "plt.xlim([-7, 20])\n",
    "plt.ylim([0, 7])\n",
    "plt.axhline(0, color='k', linewidth=2)\n",
    "ax.xaxis.set_label_coords(1.04, 0.12)\n",
    "ax.yaxis.set_label_coords(0.05, 1.02)\n",
    "plt.xlabel('$x$', fontsize=18)\n",
    "plt.ylabel('$y$', fontsize=18, rotation=0)\n",
    "#plt.xticks(range(0),())\n",
    "plt.yticks([0, 3, 6])\n",
    "plt.plot(x, y, color='k')\n",
    "\n",
    "plt.text(7, -2.5, '(b)', ha = 'center', va = 'center', fontsize=18)\n",
    "#####\n",
    "# (c)\n",
    "ax =fig.add_subplot(323)\n",
    "\n",
    "x = np.arange(-7, 20, step)\n",
    "y = np.pi - 2*np.sin(x) - np.sin(2*x)\n",
    "\n",
    "plt.xlim([-7, 20])\n",
    "plt.ylim([0, 7])\n",
    "plt.axhline(0, color='k', linewidth=2)\n",
    "ax.xaxis.set_label_coords(1.04, 0.12)\n",
    "ax.yaxis.set_label_coords(0.05, 1.02)\n",
    "plt.xlabel('$x$', fontsize=18)\n",
    "plt.ylabel('$y$', fontsize=18, rotation=0)\n",
    "#plt.xticks(range(0),())\n",
    "plt.yticks([0, 3, 6])\n",
    "plt.plot(x, y, color='k')\n",
    "\n",
    "plt.text(7, -2.5, '(c)', ha = 'center', va = 'center', fontsize=18)\n",
    "###\n",
    "# (d)\n",
    "ax =fig.add_subplot(324)\n",
    "\n",
    "x = np.arange(-7, 20, step)\n",
    "y = np.pi - 2*np.sin(x) - np.sin(2*x) - 2*np.sin(3*x)/3\n",
    "\n",
    "plt.xlim([-7, 20])\n",
    "plt.ylim([0, 7])\n",
    "plt.axhline(0, color='k', linewidth=2)\n",
    "ax.xaxis.set_label_coords(1.04, 0.12)\n",
    "ax.yaxis.set_label_coords(0.05, 1.02)\n",
    "plt.xlabel('$x$', fontsize=18)\n",
    "plt.ylabel('$y$', fontsize=18, rotation=0)\n",
    "#plt.xticks(range(0),())\n",
    "plt.yticks([0, 3, 6])\n",
    "plt.plot(x, y, color='k')\n",
    "\n",
    "plt.text(7, -2.5, '(d)', ha = 'center', va = 'center', fontsize=18)\n",
    "\n",
    "###\n",
    "# (e)\n",
    "ax =fig.add_subplot(325)\n",
    "\n",
    "x = np.arange(-7, 20, step)\n",
    "y = np.pi - 2*np.sin(x) - np.sin(2*x) - 2*np.sin(3*x)/3 - 2*np.sin(4*x)/4\n",
    "\n",
    "plt.xlim([-7, 20])\n",
    "plt.ylim([0, 7])\n",
    "plt.axhline(0, color='k', linewidth=2)\n",
    "ax.xaxis.set_label_coords(1.04, 0.12)\n",
    "ax.yaxis.set_label_coords(0.05, 1.02)\n",
    "plt.xlabel('$x$', fontsize=18)\n",
    "plt.ylabel('$y$', fontsize=18, rotation=0)\n",
    "#plt.xticks(range(0),())\n",
    "plt.yticks([0, 3, 6])\n",
    "plt.plot(x, y, color='k')\n",
    "\n",
    "plt.text(7, -2.5, '(e)', ha = 'center', va = 'center', fontsize=18)\n",
    "\n",
    "###\n",
    "# (f)\n",
    "ax =fig.add_subplot(326)\n",
    "\n",
    "x = np.arange(-7, 20, step)\n",
    "y = np.pi - 2*np.sin(x) - np.sin(2*x) - 2*np.sin(3*x)/3 - 2*np.sin(4*x)/4 - 2*np.sin(5*x)/5\n",
    "\n",
    "plt.xlim([-7, 20])\n",
    "plt.ylim([0, 7])\n",
    "plt.axhline(0, color='k', linewidth=2)\n",
    "ax.xaxis.set_label_coords(1.04, 0.12)\n",
    "ax.yaxis.set_label_coords(0.05, 1.02)\n",
    "plt.xlabel('$x$', fontsize=18)\n",
    "plt.ylabel('$y$', fontsize=18, rotation=0)\n",
    "#plt.xticks(range(0),())\n",
    "plt.yticks([0, 3, 6])\n",
    "plt.plot(x, y, color='k')\n",
    "\n",
    "plt.text(7, -2.5, '(f)', ha = 'center', va = 'center', fontsize=18)\n",
    "\n",
    "plt.subplots_adjust(left=None, bottom=None, right=None, top=None, wspace=0.2, hspace=0.7)\n",
    "plt.savefig('./figures/fig4.3_new.eps')\n",
    "plt.show()\n"
   ]
  },
  {
   "cell_type": "code",
   "execution_count": 59,
   "metadata": {
    "autoscroll": false,
    "collapsed": false,
    "ein.hycell": false,
    "ein.tags": "worksheet-0",
    "slideshow": {
     "slide_type": "-"
    }
   },
   "outputs": [],
   "source": [
    "plt.close()\n"
   ]
  },
  {
   "cell_type": "code",
   "execution_count": 0,
   "metadata": {
    "autoscroll": false,
    "collapsed": false,
    "ein.hycell": false,
    "ein.tags": "worksheet-0",
    "slideshow": {
     "slide_type": "-"
    }
   },
   "outputs": [],
   "source": [
    "t = np.array([1,2,3])\n",
    "t1 = t - 2*np.ones(len(t))\n",
    "print(t1)"
   ]
  },
  {
   "cell_type": "code",
   "execution_count": 11,
   "metadata": {
    "autoscroll": false,
    "collapsed": false,
    "ein.hycell": false,
    "ein.tags": "worksheet-0",
    "slideshow": {
     "slide_type": "-"
    }
   },
   "outputs": [
    {
     "name": "stdout",
     "output_type": "stream",
     "text": [
      "4.47213595499958\n",
      "4.472135955\n"
     ]
    }
   ],
   "source": [
    "a = 0+1j\n",
    "b = 2+3j\n",
    "print(abs(a+b))\n",
    "print(np.sqrt(4+16))"
   ]
  }
 ],
 "metadata": {
  "kernelspec": {
   "display_name": "Python [Root]",
   "name": "Python [Root]"
  },
  "language_info": {
   "codemirror_mode": {
    "name": "ipython",
    "version": 3
   },
   "file_extension": ".py",
   "mimetype": "text/x-python",
   "name": "python",
   "nbconvert_exporter": "python",
   "pygments_lexer": "ipython3",
   "version": "3.5.2"
  },
  "name": "fig4.3.ipynb"
 },
 "nbformat": 4,
 "nbformat_minor": 0
}
