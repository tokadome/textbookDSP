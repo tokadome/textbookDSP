{
 "cells": [
  {
   "cell_type": "code",
   "execution_count": null,
   "metadata": {
    "autoscroll": false,
    "collapsed": false,
    "ein.hycell": false,
    "ein.tags": "worksheet-0",
    "slideshow": {
     "slide_type": "-"
    }
   },
   "outputs": [],
   "source": [
    "#%matplotlib osx\n",
    "%matplotlib inline\n",
    "\n",
    "import matplotlib.pyplot as plt\n",
    "import matplotlib.lines as ln\n",
    "import numpy as np\n",
    "\n",
    "plt.rcParams['font.family'] = 'Times New Roman'\n",
    "plt.rcParams['mathtext.fontset'] = 'cm'\n",
    "\n",
    "step = 1\n",
    "\n",
    "fig = plt.figure(figsize=(10,5), dpi=300)\n",
    "#fig = plt.figure(figsize=(10,5))\n",
    "fig.patch.set_alpha(0.)\n",
    "\n",
    "N1 = 2\n",
    "# (a)\n",
    "ax =fig.add_subplot(211)\n",
    "\n",
    "N = 10\n",
    "Krange = 10  # must be equal to N\n",
    "\n",
    "k = np.arange(-Krange, Krange, step)\n",
    "c_k = (1/N)*(np.sin(2*np.pi*k*(N1+1/2)/N)/np.sin(2*np.pi*k/(2*N)))\n",
    "c_k[0:2*Krange:N] = (2*N1+1)/N\n",
    "\n",
    "plt.xlim([-Krange, Krange])\n",
    "plt.ylim([-0.2, 0.6])\n",
    "plt.axhline(0, color='k', linewidth=2)\n",
    "ax.xaxis.set_label_coords(1.03, 0.2)\n",
    "ax.yaxis.set_label_coords(0.05,1.02)\n",
    "plt.xlabel('$k$', fontsize=18)\n",
    "plt.ylabel('$c_k$', fontsize=18, rotation=0)\n",
    "#plt.xticks([0,1,2,3,4,5,6])\n",
    "plt.yticks([0, 0.2, 0.4])\n",
    "\n",
    "markerline, stemlines, baseline = plt.stem(k,c_k)\n",
    "#markerline, stemlines, baseline = plt.stem(k,c_k, color='k')\n",
    "plt.setp(markerline, 'markerfacecolor', 'k')\n",
    "plt.setp(stemlines, 'color', 'k')\n",
    "plt.setp(baseline, 'color', 'k')\n",
    "\n",
    "plt.text(0, -0.5, '(a)', ha = 'center', va = 'center', fontsize=18)\n",
    "\n",
    "# (b)\n",
    "ax =fig.add_subplot(212)\n",
    "\n",
    "N = 40\n",
    "Krange = 40  # must be equal to N\n",
    "\n",
    "k = np.arange(-Krange, Krange, step)\n",
    "c_k = (1/N)*(np.sin(2*np.pi*k*(N1+1/2)/N)/np.sin(2*np.pi*k/(2*N)))\n",
    "c_k[0:2*Krange:N] = (2*N1+1)/N\n",
    "\n",
    "plt.xlim([-Krange, Krange])\n",
    "plt.ylim([-0.1, 0.16])\n",
    "plt.axhline(0, color='k', linewidth=2)\n",
    "ax.xaxis.set_label_coords(1.03, 0.2)\n",
    "ax.yaxis.set_label_coords(0.05,1.02)\n",
    "plt.xlabel('$k$', fontsize=18)\n",
    "plt.ylabel('$c_k$', fontsize=18, rotation=0)\n",
    "#plt.xticks([0,1,2,3,4,5,6])\n",
    "plt.yticks([0, 0.1])\n",
    "\n",
    "markerline, stemlines, baseline = plt.stem(k,c_k)\n",
    "#markerline, stemlines, baseline = plt.stem(k,c_k, color='k')\n",
    "plt.setp(markerline, 'markerfacecolor', 'k')\n",
    "plt.setp(stemlines, 'color', 'k')\n",
    "plt.setp(baseline, 'color', 'k')\n",
    "\n",
    "plt.text(0, -0.22, '(b)', ha = 'center', va = 'center', fontsize=18)\n",
    "\n",
    "plt.subplots_adjust(left=None, bottom=0.15, right=None, top=None, wspace=None, hspace=0.8)\n",
    "#plt.savefig('./figures/fig4.18.eps')\n",
    "plt.savefig('./figures/fig4.18.png')\n",
    "plt.show()"
   ]
  },
  {
   "cell_type": "code",
   "execution_count": 59,
   "metadata": {
    "autoscroll": false,
    "collapsed": false,
    "ein.hycell": false,
    "ein.tags": "worksheet-0",
    "slideshow": {
     "slide_type": "-"
    }
   },
   "outputs": [],
   "source": [
    "plt.close()"
   ]
  }
 ],
 "metadata": {
  "kernelspec": {
   "display_name": "Python [Root]",
   "name": "Python [Root]"
  },
  "language_info": {
   "codemirror_mode": {
    "name": "ipython",
    "version": 3
   },
   "file_extension": ".py",
   "mimetype": "text/x-python",
   "name": "python",
   "nbconvert_exporter": "python",
   "pygments_lexer": "ipython3",
   "version": "3.5.2"
  },
  "name": "fig4.18.ipynb"
 },
 "nbformat": 4,
 "nbformat_minor": 0
}
