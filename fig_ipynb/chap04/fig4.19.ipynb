{
 "cells": [
  {
   "cell_type": "code",
   "execution_count": null,
   "metadata": {
    "autoscroll": false,
    "collapsed": false,
    "ein.hycell": false,
    "ein.tags": "worksheet-0",
    "slideshow": {
     "slide_type": "-"
    }
   },
   "outputs": [],
   "source": [
    "#%matplotlib osx\n",
    "%matplotlib inline\n",
    "\n",
    "import matplotlib.pyplot as plt\n",
    "import matplotlib.lines as ln\n",
    "import numpy as np\n",
    "\n",
    "plt.rcParams['font.family'] = 'Times New Roman'\n",
    "plt.rcParams['mathtext.fontset'] = 'cm'\n",
    "\n",
    "step = 1\n",
    "\n",
    "fig = plt.figure(figsize=(10,5), dpi=300)\n",
    "#fig = plt.figure(figsize=(10,5))\n",
    "fig.patch.set_alpha(0.)\n",
    "\n",
    "N = 4\n",
    "Krange = 2*N\n",
    "k = np.arange(-Krange, Krange, step)\n",
    "\n",
    "# (a)\n",
    "ax =fig.add_subplot(211)\n",
    "\n",
    "c_k = np.array([0, 1/2, 0, -1/2])\n",
    "c_k = np.hstack((c_k, c_k))\n",
    "c_k = np.hstack((c_k, c_k))\n",
    "\n",
    "plt.xlim([-Krange, Krange])\n",
    "plt.ylim([-0.7, 0.7])\n",
    "plt.axhline(0, color='k', linewidth=2)\n",
    "ax.xaxis.set_label_coords(1.02, 0.6)\n",
    "ax.yaxis.set_label_coords(0.1,1.02)\n",
    "plt.xlabel('$k$', fontsize=18)\n",
    "plt.ylabel('$c_k$ ($\\\\times$ $1/j)$', fontsize=18, rotation=0)\n",
    "plt.xticks([-8,-7,-6,-5,-4,-3,-2,-1,0,1,2,3,4,5,6,7,8])\n",
    "plt.yticks([-0.5, 0, 0.5])\n",
    "\n",
    "markerline, stemlines, baseline = plt.stem(k,c_k)\n",
    "#markerline, stemlines, baseline = plt.stem(k,c_k, color='k')\n",
    "plt.setp(markerline, 'markerfacecolor', 'k')\n",
    "plt.setp(stemlines, 'color', 'k')\n",
    "plt.setp(baseline, 'color', 'k')\n",
    "\n",
    "plt.text(0, -1.08, '(a)$\\ $ $\\omega_0 = 2 \\pi / N,\\ N = 4$.', ha = 'center', va = 'center', fontsize=18)\n",
    "\n",
    "# (b)\n",
    "ax =fig.add_subplot(212)\n",
    "\n",
    "c_k = np.array([-1/2, 0, 1/2, 0])\n",
    "c_k = np.hstack((c_k, c_k))\n",
    "c_k = np.hstack((c_k, c_k))\n",
    "\n",
    "plt.xlim([-Krange, Krange])\n",
    "plt.ylim([-0.7, 0.7])\n",
    "plt.axhline(0, color='k', linewidth=2)\n",
    "ax.xaxis.set_label_coords(1.02, 0.6)\n",
    "ax.yaxis.set_label_coords(0.1,1.02)\n",
    "plt.xlabel('$k$', fontsize=18)\n",
    "plt.ylabel('$c_k$ ($\\\\times$ $1/j)$', fontsize=18, rotation=0)\n",
    "plt.xticks([-8,-7,-6,-5,-4,-3,-2,-1,0,1,2,3,4,5,6,7,8])\n",
    "plt.yticks([-0.5, 0, 0.5])\n",
    "\n",
    "markerline, stemlines, baseline = plt.stem(k,c_k)\n",
    "#markerline, stemlines, baseline = plt.stem(k,c_k, color='k')\n",
    "plt.setp(markerline, 'markerfacecolor', 'k')\n",
    "plt.setp(stemlines, 'color', 'k')\n",
    "plt.setp(baseline, 'color', 'k')\n",
    "\n",
    "plt.text(0, -1.08, '(b)$\\ $ $\\omega_0 = 2 m \\pi / N,\\ N = 4,\\ m = 3$.', ha = 'center', va = 'center', fontsize=18)\n",
    "\n",
    "plt.subplots_adjust(left=None, bottom=0.15, right=None, top=None, wspace=None, hspace=0.6)\n",
    "plt.savefig('./figures/fig4.19.png')\n",
    "#plt.savefig('./figures/fig4.19.eps')\n",
    "plt.show()"
   ]
  },
  {
   "cell_type": "code",
   "execution_count": 59,
   "metadata": {
    "autoscroll": false,
    "collapsed": false,
    "ein.hycell": false,
    "ein.tags": "worksheet-0",
    "slideshow": {
     "slide_type": "-"
    }
   },
   "outputs": [],
   "source": [
    "plt.close()"
   ]
  }
 ],
 "metadata": {
  "kernelspec": {
   "display_name": "Python [Root]",
   "name": "Python [Root]"
  },
  "language_info": {
   "codemirror_mode": {
    "name": "ipython",
    "version": 3
   },
   "file_extension": ".py",
   "mimetype": "text/x-python",
   "name": "python",
   "nbconvert_exporter": "python",
   "pygments_lexer": "ipython3",
   "version": "3.5.2"
  },
  "name": "fig4.19.ipynb"
 },
 "nbformat": 4,
 "nbformat_minor": 0
}
