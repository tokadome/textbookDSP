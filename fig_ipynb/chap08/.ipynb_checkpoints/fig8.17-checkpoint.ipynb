{
 "cells": [
  {
   "cell_type": "code",
   "execution_count": null,
   "metadata": {
    "autoscroll": false,
    "collapsed": false,
    "ein.hycell": false,
    "ein.tags": "worksheet-0",
    "slideshow": {
     "slide_type": "-"
    }
   },
   "outputs": [],
   "source": [
    "#%matplotlib osx\n",
    "%matplotlib inline\n",
    "\n",
    "import matplotlib.pyplot as plt\n",
    "import matplotlib.lines as ln\n",
    "import numpy as np\n",
    "plt.close()\n",
    "\n",
    "plt.rcParams['font.family'] = 'Times New Roman'\n",
    "\n",
    "\n",
    "fig = plt.figure(figsize=(10,4), dpi=300)\n",
    "#fig = plt.figure(figsize=(10,4))\n",
    "fig.patch.set_alpha(0.)\n",
    "\n",
    "ax =fig.add_subplot(111)\n",
    "\n",
    "step = 0.01\n",
    "T = 1\n",
    "Omega_c = 2\n",
    "t = np.arange(-10, 10, step)\n",
    "h = T*Omega_c*np.sinc(Omega_c*t/np.pi)/np.pi\n",
    "\n",
    "plt.xlim([-10, 10])\n",
    "plt.ylim([-0.3, 0.8])\n",
    "plt.axhline(0, color='k', linewidth=2)\n",
    "ax.xaxis.set_label_coords(1.03, 0.1)\n",
    "ax.yaxis.set_label_coords(0.15,1.02)\n",
    "plt.xlabel('$t$', fontsize=18)\n",
    "plt.ylabel('$h(t)$,  $T = 1$, $\\\\Omega_c$ = 2', fontsize=18, rotation=0)\n",
    "#plt.xticks([0,1,2,3,4,5,6])\n",
    "plt.yticks([-0.2, 0, 0.2, 0.4, 0.6, 0.8])\n",
    "\n",
    "plt.plot(t,h, color='k')\n",
    "#markerline, stemlines, baseline = plt.stem(n,x, color='k')\n",
    "#plt.setp(markerline, 'markerfacecolor', 'k')\n",
    "#plt.setp(stemlines, 'color', 'k')\n",
    "#plt.setp(baseline, 'color', 'k')\n",
    "\n",
    "plt.subplots_adjust(left=None, bottom=None, right=None, top=None, wspace=None, hspace=0.5)\n",
    "plt.savefig('./figures/fig8.17.eps')\n",
    "plt.show()\n"
   ]
  },
  {
   "cell_type": "code",
   "execution_count": 59,
   "metadata": {
    "autoscroll": false,
    "collapsed": false,
    "ein.hycell": false,
    "ein.tags": "worksheet-0",
    "slideshow": {
     "slide_type": "-"
    }
   },
   "outputs": [],
   "source": [
    "plt.close()\n"
   ]
  },
  {
   "cell_type": "code",
   "execution_count": 0,
   "metadata": {
    "autoscroll": false,
    "collapsed": false,
    "ein.hycell": false,
    "ein.tags": "worksheet-0",
    "slideshow": {
     "slide_type": "-"
    }
   },
   "outputs": [],
   "source": []
  },
  {
   "cell_type": "code",
   "execution_count": 0,
   "metadata": {
    "autoscroll": false,
    "collapsed": false,
    "ein.hycell": false,
    "ein.tags": "worksheet-0",
    "slideshow": {
     "slide_type": "-"
    }
   },
   "outputs": [],
   "source": []
  }
 ],
 "metadata": {
  "kernelspec": {
   "display_name": "Python [Root]",
   "name": "Python [Root]"
  },
  "language_info": {
   "codemirror_mode": {
    "name": "ipython",
    "version": 3
   },
   "file_extension": ".py",
   "mimetype": "text/x-python",
   "name": "python",
   "nbconvert_exporter": "python",
   "pygments_lexer": "ipython3",
   "version": "3.5.2"
  },
  "name": "fig8.17.ipynb"
 },
 "nbformat": 4,
 "nbformat_minor": 0
}
