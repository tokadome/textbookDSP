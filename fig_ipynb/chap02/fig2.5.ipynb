{
 "cells": [
  {
   "cell_type": "code",
   "execution_count": null,
   "metadata": {
    "autoscroll": false,
    "collapsed": false,
    "ein.hycell": false,
    "ein.tags": "worksheet-0",
    "slideshow": {
     "slide_type": "-"
    }
   },
   "outputs": [],
   "source": [
    "%matplotlib inline\n",
    "\n",
    "import matplotlib.pyplot as plt\n",
    "import matplotlib.lines as ln\n",
    "import numpy as np\n",
    "\n",
    "plt.rcParams['font.family'] = 'Times New Roman'\n",
    "plt.rcParams['mathtext.fontset'] = 'cm'\n",
    "\n",
    "step = 1\n",
    "\n",
    "fig = plt.figure(figsize=(10,4),dpi=300)\n",
    "#fig = plt.figure(figsize=(10,4))\n",
    "fig.patch.set_alpha(0.)\n",
    "\n",
    "ax =fig.add_subplot(111)\n",
    "plt.xlim([-30, 30])\n",
    "plt.ylim([-3.1, 3.1])\n",
    "plt.axhline(0, color='k', linewidth=2)\n",
    "ax.xaxis.set_label_coords(1.02, 0.6)\n",
    "ax.yaxis.set_label_coords(0.2,1.02)\n",
    "plt.yticks([-3, -1.5, 0, 1.5, 3])\n",
    "plt.xlabel('$n$', fontsize=18)\n",
    "plt.ylabel('$x[n]$ = 2.5 sin$(n/3 + \\pi/4)$', fontsize=18, rotation=0)\n",
    "\n",
    "omega = 1/3\n",
    "phi = np.pi/4\n",
    "A = 2.5\n",
    "n = np.arange(-30, 30, step)\n",
    "x = A*np.sin(omega*n+phi)\n",
    "\n",
    "markerline, stemlines, baseline = plt.stem(n,x)\n",
    "#markerline, stemlines, baseline = plt.stem(n,x, color='k')\n",
    "plt.setp(markerline, 'markerfacecolor', 'k')\n",
    "plt.setp(stemlines, 'color', 'k')\n",
    "plt.setp(baseline, 'color', 'k')\n",
    "\n",
    "plt.text(-2.2, -2.4, '$\\phi =$', ha = 'center', va = 'center', fontsize=16)\n",
    "plt.text(-1.9, -2.9, '$\\pi/4$', ha = 'center', va = 'center', fontsize=16)\n",
    "plt.quiver(0,-2.0, -2.5,0,angles='xy',units='xy',width=0.15, scale=1)\n",
    "plt.quiver(-2.5,-2.0, 2.5,0,angles='xy',units='xy',width=0.15, scale=1)\n",
    "#plt.quiver(-2.5, -2.0, 1.0, 0,angles='xy',width=0.0025)\n",
    "plt.plot([-2.5, -2.5], [-2,3], \"--\", linewidth=1, color=\"black\")\n",
    "plt.plot([0, 0], [-3,3], linewidth=2, color=\"black\")\n",
    "\n",
    "#plt.text(0, -4.2, '(a)', ha = 'center', va = 'center', fontsize=18)\n",
    "\n",
    "plt.subplots_adjust(left=None, bottom=0.2, right=None, top=None, wspace=None, hspace=None)\n",
    "#plt.savefig('./figures/fig2.5.eps')\n",
    "plt.savefig('./figures/fig2.5.png')\n",
    "plt.show()"
   ]
  },
  {
   "cell_type": "code",
   "execution_count": 3,
   "metadata": {
    "autoscroll": false,
    "collapsed": false,
    "ein.hycell": false,
    "ein.tags": "worksheet-0",
    "slideshow": {
     "slide_type": "-"
    }
   },
   "outputs": [],
   "source": [
    "plt.close()"
   ]
  }
 ],
 "metadata": {
  "kernelspec": {
   "display_name": "Python 3",
   "name": "python3"
  },
  "language_info": {
   "codemirror_mode": {
    "name": "ipython",
    "version": 3
   },
   "file_extension": ".py",
   "mimetype": "text/x-python",
   "name": "python",
   "nbconvert_exporter": "python",
   "pygments_lexer": "ipython3",
   "version": "3.5.1"
  },
  "name": "fig2.5.ipynb"
 },
 "nbformat": 4,
 "nbformat_minor": 0
}
