{
 "cells": [
  {
   "cell_type": "code",
   "execution_count": 1,
   "metadata": {
    "autoscroll": "json-false",
    "collapsed": false,
    "ein.tags": [
     "worksheet-0"
    ],
    "slideshow": {
     "slide_type": "-"
    }
   },
   "outputs": [],
   "source": [
    "%matplotlib osx\n",
    "import matplotlib.pyplot as plt\n",
    "import matplotlib.lines as ln\n",
    "import numpy as np\n",
    "plt.close()\n",
    "\n",
    "plt.rcParams['font.family'] = 'Times New Roman'\n",
    "\n",
    "step = 0.01\n",
    "\n",
    "fig = plt.figure(figsize=(10,4),dpi=300)\n",
    "#fig = plt.figure(figsize=(10,4))\n",
    "fig.patch.set_alpha(0.)\n",
    "\n",
    "ax =fig.add_subplot(111)\n",
    "plt.xlim([-0.8, 1.3])\n",
    "plt.ylim([-1.2, 1.2])\n",
    "plt.axhline(0, color='k', linewidth=2)\n",
    "plt.axvline(0, color='k', linewidth=2)\n",
    "ax.xaxis.set_label_coords(1.0, 0.6)\n",
    "ax.yaxis.set_label_coords(0.15,1.02)\n",
    "plt.xticks([0,1])\n",
    "plt.yticks([-1, 0, 1])\n",
    "plt.xlabel('$t$ [sec.]', fontsize=18)\n",
    "plt.ylabel('$x(t)$ = sin($6\\,\\pi t$); 3 [Hz]', fontsize=18, rotation=0)\n",
    "\n",
    "Omega = 6*np.pi\n",
    "t = np.arange(-30, 30, step)\n",
    "x = np.sin(Omega*t)\n",
    "\n",
    "plt.plot(t,x,\"k\")\n",
    "\n",
    "plt.text(0.57, 0.85, '1 sec.', ha = 'center', va = 'center', fontsize=18)\n",
    "plt.quiver(0,0.75, 1,0,angles='xy',units='x',width=0.005, headwidth=8, headlength=12, headaxislength=10,scale=1)\n",
    "plt.quiver(1,0.75, -1,0,angles='xy',units='x',width=0.005, headwidth=8, headlength=12, headaxislength=10,scale=1)\n",
    "plt.plot([1,1], [-1.2,1.2], \"--\", linewidth=1, color=\"black\")\n",
    "\n",
    "plt.subplots_adjust(left=None, bottom=0.2, right=None, top=None, wspace=None, hspace=None)\n",
    "plt.savefig('./figures/fig2.8.eps')\n",
    "plt.show()\n"
   ]
  },
  {
   "cell_type": "code",
   "execution_count": 3,
   "metadata": {
    "autoscroll": "json-false",
    "collapsed": false,
    "ein.tags": [
     "worksheet-0"
    ],
    "slideshow": {
     "slide_type": "-"
    }
   },
   "outputs": [],
   "source": [
    "plt.close()\n"
   ]
  },
  {
   "cell_type": "code",
   "execution_count": 0,
   "metadata": {
    "autoscroll": "json-false",
    "collapsed": false,
    "ein.tags": [
     "worksheet-0"
    ],
    "slideshow": {
     "slide_type": "-"
    }
   },
   "outputs": [],
   "source": []
  },
  {
   "cell_type": "code",
   "execution_count": 84,
   "metadata": {
    "autoscroll": "json-false",
    "collapsed": false,
    "ein.tags": [
     "worksheet-0"
    ],
    "slideshow": {
     "slide_type": "-"
    }
   },
   "outputs": [],
   "source": []
  }
 ],
 "metadata": {
  "kernelspec": {
   "display_name": "Python [Root]",
   "name": "Python [Root]"
  },
  "name": "fig2.8.ipynb"
 },
 "nbformat": 4,
 "nbformat_minor": 0
}
