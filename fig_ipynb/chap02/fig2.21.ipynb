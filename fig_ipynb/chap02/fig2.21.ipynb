{
 "cells": [
  {
   "cell_type": "code",
   "execution_count": null,
   "metadata": {
    "autoscroll": false,
    "collapsed": false,
    "ein.hycell": false,
    "ein.tags": "worksheet-0",
    "slideshow": {
     "slide_type": "-"
    }
   },
   "outputs": [],
   "source": [
    "#%matplotlib osx\n",
    "%matplotlib inline\n",
    "\n",
    "import matplotlib.pyplot as plt\n",
    "import matplotlib.lines as ln\n",
    "import numpy as np\n",
    "\n",
    "plt.rcParams['font.family'] = 'Times New Roman'\n",
    "plt.rcParams['mathtext.fontset'] = 'cm'\n",
    "\n",
    "step = 0.01\n",
    "\n",
    "fig = plt.figure(dpi=300)\n",
    "#fig = plt.figure()\n",
    "fig.patch.set_alpha(0.)\n",
    "\n",
    "#(a)\n",
    "ax =fig.add_subplot(111)\n",
    "\n",
    "omega = 2\n",
    "theta = 0.4\n",
    "t = np.arange(-5, 5, step)\n",
    "x = (1/4)*(2.5*np.cos(omega*(t)) + 0.8*np.cos(2*omega*(t-theta)) + 0.7*np.cos(4*omega*(t-theta))+ 0.8*np.cos(5*omega*(t-theta)))\n",
    "\n",
    "plt.xlim([-5, 5])\n",
    "plt.ylim([-1.2, 1.2])\n",
    "plt.axhline(0, color='k', linewidth=2)\n",
    "ax.xaxis.set_label_coords(1.02, 0.52)\n",
    "ax.yaxis.set_label_coords(0.05,1.02)\n",
    "plt.xlabel('$t$', fontsize=18)\n",
    "plt.ylabel('$x(t)$', fontsize=18, rotation=0)\n",
    "#plt.xticks([0,1,2,3,4,5,6])\n",
    "plt.yticks([-1, 0, 1])\n",
    "\n",
    "plt.plot(t, x, color='k')\n",
    "\n",
    "plt.text(1.7, 0.87, '$T$', ha = 'center', va = 'center', fontsize=18)\n",
    "plt.quiver(0,1, 3.14,0,angles='xy',units='x',width=0.02, headwidth=8, headlength=12, headaxislength=12,scale=1)\n",
    "plt.quiver(3.14,1, -3.14,0,angles='xy',units='x',width=0.02, headwidth=8, headlength=12, headaxislength=12,scale=1)\n",
    "plt.plot([0,0], [-1.2,1.2], \"--\", linewidth=1, color=\"black\")\n",
    "plt.plot([3.14,3.14], [-1.2,1.2], \"--\", linewidth=1, color=\"black\")\n",
    "\n",
    "plt.subplots_adjust(left=None, bottom=None, right=None, top=None, wspace=None, hspace=1.0)\n",
    "#plt.savefig('./figures/fig2.21.eps')\n",
    "plt.savefig('./figures/fig2.21.png')\n",
    "\n",
    "plt.show()"
   ]
  },
  {
   "cell_type": "code",
   "execution_count": 59,
   "metadata": {
    "autoscroll": false,
    "collapsed": false,
    "ein.hycell": false,
    "ein.tags": "worksheet-0",
    "slideshow": {
     "slide_type": "-"
    }
   },
   "outputs": [],
   "source": [
    "plt.close()"
   ]
  }
 ],
 "metadata": {
  "kernelspec": {
   "display_name": "Python [Root]",
   "name": "Python [Root]"
  },
  "language_info": {
   "codemirror_mode": {
    "name": "ipython",
    "version": 3
   },
   "file_extension": ".py",
   "mimetype": "text/x-python",
   "name": "python",
   "nbconvert_exporter": "python",
   "pygments_lexer": "ipython3",
   "version": "3.5.2"
  },
  "name": "fig2.21.ipynb"
 },
 "nbformat": 4,
 "nbformat_minor": 0
}
