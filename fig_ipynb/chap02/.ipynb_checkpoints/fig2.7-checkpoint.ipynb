{
 "cells": [
  {
   "cell_type": "code",
   "execution_count": null,
   "metadata": {
    "autoscroll": false,
    "collapsed": false,
    "ein.hycell": false,
    "ein.tags": "worksheet-0",
    "slideshow": {
     "slide_type": "-"
    }
   },
   "outputs": [],
   "source": [
    "#%matplotlib osx\n",
    "%matplotlib inline\n",
    "\n",
    "import matplotlib.pyplot as plt\n",
    "import matplotlib.lines as ln\n",
    "import numpy as np\n",
    "plt.close()\n",
    "\n",
    "plt.rcParams['font.family'] = 'Times New Roman'\n",
    "\n",
    "step = 0.01\n",
    "\n",
    "fig = plt.figure(figsize=(10,4),dpi=300)\n",
    "#fig = plt.figure(figsize=(10,4))\n",
    "fig.patch.set_alpha(0.)\n",
    "\n",
    "ax =fig.add_subplot(111)\n",
    "plt.xlim([-30, 30])\n",
    "plt.ylim([-3.1, 3.1])\n",
    "plt.axhline(0, color='k', linewidth=2)\n",
    "ax.xaxis.set_label_coords(1.02, 0.6)\n",
    "ax.yaxis.set_label_coords(0.22,1.02)\n",
    "plt.yticks([-3, -1.5, 0, 1.5, 3])\n",
    "plt.xlabel('$t$', fontsize=18)\n",
    "plt.ylabel('$x(t)$ = 2.5 sin($t/3 + \\pi/4$)', fontsize=18, rotation=0)\n",
    "\n",
    "Omega = 1/3\n",
    "Phi = np.pi/4\n",
    "A = 2.5\n",
    "t = np.arange(-30, 30, step)\n",
    "x = A*np.sin(Omega*t+Phi)\n",
    "\n",
    "plt.plot(t,x,\"k\")\n",
    "\n",
    "plt.text(-2.2, -2.4, '$\\Phi =$', ha = 'center', va = 'center', fontsize=16)\n",
    "plt.text(-1.9, -2.9, '$\\pi/4$', ha = 'center', va = 'center', fontsize=16)\n",
    "plt.quiver(0,-2.0, -2.5,0,angles='xy',units='xy',width=0.15, scale=1)\n",
    "plt.quiver(-2.5,-2.0, 2.5,0,angles='xy',units='xy',width=0.15, scale=1)\n",
    "#plt.quiver(-2.5, -2.0, 1.0, 0,angles='xy',width=0.0025)\n",
    "plt.plot([-2.5, -2.5], [-2,3], \"--\", linewidth=1, color=\"black\")\n",
    "plt.plot([0, 0], [-3,3], linewidth=2, color=\"black\")\n",
    "\n",
    "#plt.text(0, -4.2, '(a)', ha = 'center', va = 'center', fontsize=18)\n",
    "\n",
    "plt.subplots_adjust(left=None, bottom=0.2, right=None, top=None, wspace=None, hspace=None)\n",
    "plt.savefig('./figures/fig2.7.eps')\n",
    "plt.show()\n"
   ]
  },
  {
   "cell_type": "code",
   "execution_count": 3,
   "metadata": {
    "autoscroll": false,
    "collapsed": false,
    "ein.hycell": false,
    "ein.tags": "worksheet-0",
    "slideshow": {
     "slide_type": "-"
    }
   },
   "outputs": [],
   "source": [
    "plt.close()\n"
   ]
  },
  {
   "cell_type": "code",
   "execution_count": 0,
   "metadata": {
    "autoscroll": false,
    "collapsed": false,
    "ein.hycell": false,
    "ein.tags": "worksheet-0",
    "slideshow": {
     "slide_type": "-"
    }
   },
   "outputs": [],
   "source": []
  },
  {
   "cell_type": "code",
   "execution_count": 84,
   "metadata": {
    "autoscroll": false,
    "collapsed": false,
    "ein.hycell": false,
    "ein.tags": "worksheet-0",
    "slideshow": {
     "slide_type": "-"
    }
   },
   "outputs": [],
   "source": []
  }
 ],
 "metadata": {
  "kernelspec": {
   "display_name": "Python [Root]",
   "name": "Python [Root]"
  },
  "name": "fig2.7.ipynb"
 },
 "nbformat": 4,
 "nbformat_minor": 0
}
