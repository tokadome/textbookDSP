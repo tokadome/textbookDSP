{
 "cells": [
  {
   "cell_type": "code",
   "execution_count": null,
   "metadata": {
    "autoscroll": false,
    "collapsed": false,
    "ein.hycell": false,
    "ein.tags": "worksheet-0",
    "slideshow": {
     "slide_type": "-"
    }
   },
   "outputs": [],
   "source": [
    "%matplotlib inline\n",
    "#%matplotlib osx\n",
    "\n",
    "import matplotlib.pyplot as plt\n",
    "import matplotlib.lines as ln\n",
    "import numpy as np\n",
    "\n",
    "plt.rcParams['font.family'] = 'Times New Roman'\n",
    "plt.rcParams['mathtext.fontset'] = 'cm'\n",
    "\n",
    "step = 0.01\n",
    "\n",
    "fig = plt.figure(figsize=(10,4),dpi=300)\n",
    "#fig = plt.figure(figsize=(10,4))\n",
    "fig.patch.set_alpha(0.)\n",
    "\n",
    "ax =fig.add_subplot(111)\n",
    "plt.xlim([-30, 30])\n",
    "plt.ylim([-1.2, 1.2])\n",
    "plt.axhline(0, color='k', linewidth=2)\n",
    "plt.axvline(0, color='k', linewidth=2)\n",
    "ax.xaxis.set_label_coords(1.02, 0.6)\n",
    "ax.yaxis.set_label_coords(0.12,1.02)\n",
    "plt.yticks([-3, -1.5, 0, 1.5, 3])\n",
    "plt.xlabel('$t$', fontsize=18)\n",
    "plt.ylabel('$x(t)$ = cos($t/3$)', fontsize=18, rotation=0)\n",
    "\n",
    "Omega = 1/3\n",
    "A = 2.5\n",
    "t = np.arange(-30, 30, step)\n",
    "x = A*np.cos(Omega*t)\n",
    "\n",
    "plt.plot(t,x,\"k\")\n",
    "\n",
    "plt.text(10, 1.9, '$T_0$', ha = 'center', va = 'center', fontsize=24)\n",
    "plt.quiver(0,1.5, 18.84,0,angles='xy',units='x',linewidth=2, width=0.1, headwidth=12, headlength=15, headaxislength=13,scale=1)\n",
    "plt.quiver(18.84,1.5, -18.84,0,angles='xy',units='x',linewidth=2, width=0.1, headwidth=12, headlength=15, headaxislength=13,scale=1)\n",
    "plt.plot([18.84,18.84], [-3.0,3.0], \"--\", linewidth=1, color=\"black\")\n",
    "\n",
    "plt.subplots_adjust(left=None, bottom=0.2, right=None, top=None, wspace=None, hspace=None)\n",
    "#plt.savefig('./figures/fig2.10.eps')\n",
    "plt.savefig('./figures/fig2.10.png')\n",
    "plt.show()\n"
   ]
  },
  {
   "cell_type": "code",
   "execution_count": 3,
   "metadata": {
    "autoscroll": false,
    "collapsed": false,
    "ein.hycell": false,
    "ein.tags": "worksheet-0",
    "slideshow": {
     "slide_type": "-"
    }
   },
   "outputs": [],
   "source": [
    "plt.close()\n"
   ]
  }
 ],
 "metadata": {
  "kernelspec": {
   "display_name": "Python [Root]",
   "name": "Python [Root]"
  },
  "name": "fig2.10.ipynb"
 },
 "nbformat": 4,
 "nbformat_minor": 0
}
