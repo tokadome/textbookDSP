{
 "cells": [
  {
   "cell_type": "code",
   "execution_count": null,
   "metadata": {
    "autoscroll": false,
    "collapsed": false,
    "ein.hycell": false,
    "ein.tags": "worksheet-0",
    "slideshow": {
     "slide_type": "-"
    }
   },
   "outputs": [],
   "source": [
    "#%matplotlib osx\n",
    "%matplotlib inline\n",
    "\n",
    "import matplotlib.pyplot as plt\n",
    "import matplotlib.lines as ln\n",
    "import numpy as np\n",
    "plt.close()\n",
    "\n",
    "plt.rcParams['font.family'] = 'Times New Roman'\n",
    "\n",
    "step = 1\n",
    "\n",
    "fig = plt.figure(dpi=300)\n",
    "#fig = plt.figure()\n",
    "fig.patch.set_alpha(0.)\n",
    "\n",
    "#(a)\n",
    "ax =fig.add_subplot(311)\n",
    "\n",
    "omega = (1/6)*np.pi\n",
    "n = np.arange(-30, 30, step)\n",
    "x = np.cos(omega*n)\n",
    "\n",
    "plt.xlim([-30, 30])\n",
    "plt.ylim([-1.2, 1.2])\n",
    "plt.axhline(0, color='k', linewidth=2)\n",
    "ax.xaxis.set_label_coords(1.02, 0.52)\n",
    "ax.yaxis.set_label_coords(0.15,1.02)\n",
    "plt.xlabel('$n$', fontsize=18)\n",
    "plt.ylabel('$x[n]$ = cos($\\pi n/6$)', fontsize=18, rotation=0)\n",
    "#plt.xticks([0,1,2,3,4,5,6])\n",
    "plt.yticks([-1, 0, 1])\n",
    "markerline, stemlines, baseline = plt.stem(n,x, color='k')\n",
    "plt.setp(markerline, 'markerfacecolor', 'k')\n",
    "plt.setp(stemlines, 'color', 'k')\n",
    "plt.setp(baseline, 'color', 'k')\n",
    "\n",
    "plt.text(0, -2.5, '(a)', ha = 'center', va = 'center', fontsize=18)\n",
    "\n",
    "######\n",
    "# (b)\n",
    "ax =fig.add_subplot(312)\n",
    "\n",
    "omega = (2/6)*np.pi\n",
    "n = np.arange(-30, 30, step)\n",
    "x = np.cos(omega*n)\n",
    "\n",
    "plt.xlim([-30, 30])\n",
    "plt.ylim([-1.2, 1.2])\n",
    "plt.axhline(0, color='k', linewidth=2)\n",
    "ax.xaxis.set_label_coords(1.02, 0.52)\n",
    "ax.yaxis.set_label_coords(0.15,1.02)\n",
    "plt.xlabel('$n$', fontsize=18)\n",
    "plt.ylabel('$x[n]$ = cos($2\\pi n/6$)', fontsize=18, rotation=0)\n",
    "#plt.xticks([0,1,2,3,4,5,6])\n",
    "plt.yticks([-1, 0, 1])\n",
    "markerline, stemlines, baseline = plt.stem(n,x, color='k')\n",
    "plt.setp(markerline, 'markerfacecolor', 'k')\n",
    "plt.setp(stemlines, 'color', 'k')\n",
    "plt.setp(baseline, 'color', 'k')\n",
    "\n",
    "plt.text(0, -2.5, '(b)', ha = 'center', va = 'center', fontsize=18)\n",
    "#####\n",
    "# (c)\n",
    "ax =fig.add_subplot(313)\n",
    "\n",
    "omega = 2/6\n",
    "n = np.arange(-30, 30, step)\n",
    "x = np.cos(omega*n)\n",
    "\n",
    "plt.xlim([-30, 30])\n",
    "plt.ylim([-1.2, 1.2])\n",
    "plt.axhline(0, color='k', linewidth=2)\n",
    "ax.xaxis.set_label_coords(1.02, 0.52)\n",
    "ax.yaxis.set_label_coords(0.15,1.02)\n",
    "plt.xlabel('$n$', fontsize=18)\n",
    "plt.ylabel('$x[n]$ = cos($2n/6$)', fontsize=18, rotation=0)\n",
    "#plt.xticks([0,1,2,3,4,5,6])\n",
    "plt.yticks([-1, 0, 1])\n",
    "markerline, stemlines, baseline = plt.stem(n,x, color='k')\n",
    "plt.setp(markerline, 'markerfacecolor', 'k')\n",
    "plt.setp(stemlines, 'color', 'k')\n",
    "plt.setp(baseline, 'color', 'k')\n",
    "\n",
    "plt.text(0, -2.5, '(c)', ha = 'center', va = 'center', fontsize=18)\n",
    "\n",
    "plt.subplots_adjust(left=None, bottom=None, right=None, top=None, wspace=None, hspace=1.1)\n",
    "plt.savefig('./figures/fig2.6.eps')\n",
    "plt.show()\n"
   ]
  },
  {
   "cell_type": "code",
   "execution_count": 59,
   "metadata": {
    "autoscroll": false,
    "collapsed": false,
    "ein.hycell": false,
    "ein.tags": "worksheet-0",
    "slideshow": {
     "slide_type": "-"
    }
   },
   "outputs": [],
   "source": [
    "plt.close()\n"
   ]
  },
  {
   "cell_type": "code",
   "execution_count": 0,
   "metadata": {
    "autoscroll": false,
    "collapsed": false,
    "ein.hycell": false,
    "ein.tags": "worksheet-0",
    "slideshow": {
     "slide_type": "-"
    }
   },
   "outputs": [],
   "source": []
  },
  {
   "cell_type": "code",
   "execution_count": 0,
   "metadata": {
    "autoscroll": false,
    "collapsed": false,
    "ein.hycell": false,
    "ein.tags": "worksheet-0",
    "slideshow": {
     "slide_type": "-"
    }
   },
   "outputs": [],
   "source": []
  }
 ],
 "metadata": {
  "kernelspec": {
   "display_name": "Python [Root]",
   "name": "Python [Root]"
  },
  "language_info": {
   "codemirror_mode": {
    "name": "ipython",
    "version": 3
   },
   "file_extension": ".py",
   "mimetype": "text/x-python",
   "name": "python",
   "nbconvert_exporter": "python",
   "pygments_lexer": "ipython3",
   "version": "3.5.2"
  },
  "name": "fig2.6.ipynb"
 },
 "nbformat": 4,
 "nbformat_minor": 0
}
