{
 "cells": [
  {
   "cell_type": "code",
   "execution_count": null,
   "metadata": {
    "autoscroll": false,
    "collapsed": false,
    "ein.hycell": false,
    "ein.tags": "worksheet-0",
    "slideshow": {
     "slide_type": "-"
    }
   },
   "outputs": [],
   "source": [
    "%matplotlib inline\n",
    "#%matplotlib osx\n",
    "\n",
    "import matplotlib.pyplot as plt\n",
    "import matplotlib.lines as ln\n",
    "import numpy as np\n",
    "\n",
    "plt.rcParams['font.family'] = 'Times New Roman'\n",
    "plt.rcParams['mathtext.fontset'] = 'cm'\n",
    "\n",
    "step = 1\n",
    "\n",
    "fig = plt.figure(dpi=300)\n",
    "#fig = plt.figure()\n",
    "fig.patch.set_alpha(0.)\n",
    "\n",
    "#(a)\n",
    "ax =fig.add_subplot(211)\n",
    "n = np.arange(-20, 20, step)\n",
    "x = np.arange(0,10,step)\n",
    "x = np.concatenate((x,x),axis=0)\n",
    "x = np.concatenate((x,x),axis=0)\n",
    "x = x/9\n",
    "plt.xlim([-10, 20])\n",
    "plt.ylim([-0.1, 1.2])\n",
    "plt.axhline(0, color='k', linewidth=2)\n",
    "ax.xaxis.set_label_coords(1.03, 0.12)\n",
    "ax.yaxis.set_label_coords(0.05,1.02)\n",
    "plt.xlabel('$n$', fontsize=18)\n",
    "plt.ylabel('$x[n]$', fontsize=18, rotation=0)\n",
    "#plt.xticks([0,1,2,3,4,5,6])\n",
    "plt.yticks([0, 0.5, 1])\n",
    "\n",
    "markerline, stemlines, baseline = plt.stem(n,x)\n",
    "#markerline, stemlines, baseline = plt.stem(n,x, color='k')\n",
    "plt.setp(markerline, 'markerfacecolor', 'k')\n",
    "plt.setp(stemlines, 'color', 'k')\n",
    "plt.setp(baseline, 'color', 'k')\n",
    "\n",
    "plt.text(5, -0.4, '(a)', ha = 'center', va = 'center', fontsize=18)\n",
    "\n",
    "######\n",
    "# (b)\n",
    "ax =fig.add_subplot(212)\n",
    "\n",
    "n = np.arange(-20, 20, step)\n",
    "x = np.exp(n*0.25)\n",
    "x[-20:0] = 0\n",
    "\n",
    "plt.xlim([-10, 20])\n",
    "plt.ylim([0.0, 125])\n",
    "plt.axhline(0, color='k', linewidth=2)\n",
    "ax.xaxis.set_label_coords(1.03, 0.12)\n",
    "ax.yaxis.set_label_coords(0.05,1.02)\n",
    "plt.xlabel('$n$', fontsize=18)\n",
    "plt.ylabel('$x[n]$', fontsize=18, rotation=0)\n",
    "#plt.xticks([0,1,2,3,4,5,6])\n",
    "plt.yticks([0, 50, 100])\n",
    "\n",
    "markerline, stemlines, baseline = plt.stem(n,x)\n",
    "#markerline, stemlines, baseline = plt.stem(n,x, color='k')\n",
    "plt.setp(markerline, 'markerfacecolor', 'k')\n",
    "plt.setp(stemlines, 'color', 'k')\n",
    "plt.setp(baseline, 'color', 'k')\n",
    "\n",
    "plt.text(5, -30, '(b)', ha = 'center', va = 'center', fontsize=18)\n",
    "\n",
    "plt.subplots_adjust(left=None, bottom=None, right=None, top=None, wspace=None, hspace=0.5)\n",
    "plt.savefig('./figures/fig2.29.png')\n",
    "#plt.savefig('./figures/fig2.29.eps')\n",
    "\n",
    "plt.show()"
   ]
  },
  {
   "cell_type": "code",
   "execution_count": 4,
   "metadata": {
    "autoscroll": false,
    "collapsed": false,
    "ein.hycell": false,
    "ein.tags": "worksheet-0",
    "slideshow": {
     "slide_type": "-"
    }
   },
   "outputs": [],
   "source": [
    "plt.close()"
   ]
  }
 ],
 "metadata": {
  "kernelspec": {
   "display_name": "Python [Root]",
   "name": "Python [Root]"
  },
  "language_info": {
   "codemirror_mode": {
    "name": "ipython",
    "version": 3
   },
   "file_extension": ".py",
   "mimetype": "text/x-python",
   "name": "python",
   "nbconvert_exporter": "python",
   "pygments_lexer": "ipython3",
   "version": "3.5.2"
  },
  "name": "fig2.31.ipynb"
 },
 "nbformat": 4,
 "nbformat_minor": 0
}
