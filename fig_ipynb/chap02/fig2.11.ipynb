{
 "cells": [
  {
   "cell_type": "code",
   "execution_count": 1,
   "metadata": {
    "autoscroll": "json-false",
    "collapsed": false,
    "ein.tags": [
     "worksheet-0"
    ],
    "slideshow": {
     "slide_type": "-"
    }
   },
   "outputs": [],
   "source": [
    "%matplotlib osx\n",
    "import matplotlib.pyplot as plt\n",
    "import matplotlib.lines as ln\n",
    "import numpy as np\n",
    "plt.close()\n",
    "plt.rcParams['font.family'] = 'Times New Roman'\n",
    "\n",
    "step = 1\n",
    "\n",
    "fig = plt.figure(figsize=(15,4),dpi=300)\n",
    "#fig = plt.figure(figsize=(15,4))\n",
    "fig.patch.set_alpha(0.)\n",
    "\n",
    "ax =fig.add_subplot(111)\n",
    "n = np.arange(-20, 20, step)\n",
    "x = np.arange(0,10,step)\n",
    "x = np.concatenate((x,x),axis=0)\n",
    "x = np.concatenate((x,x),axis=0)\n",
    "x = x/9\n",
    "plt.xlim([-20, 20])\n",
    "plt.ylim([-0.1, 1.2])\n",
    "plt.axhline(0, color='k', linewidth=2)\n",
    "plt.axvline(0, color='k', linewidth=2)\n",
    "ax.xaxis.set_label_coords(1.03, 0.12)\n",
    "ax.yaxis.set_label_coords(0.05,1.02)\n",
    "plt.xlabel('$n$', fontsize=18)\n",
    "plt.ylabel('$x$', fontsize=18, rotation=0)\n",
    "#plt.xticks([0,1,2,3,4,5,6])\n",
    "plt.yticks([0, 0.5, 1])\n",
    "\n",
    "markerline, stemlines, baseline = plt.stem(n,x, color='k')\n",
    "plt.setp(markerline, 'markerfacecolor', 'k')\n",
    "plt.setp(stemlines, 'color', 'k')\n",
    "plt.setp(baseline, 'color', 'k')\n",
    "\n",
    "plt.text(4.5, 0.97, '$N_0$', ha = 'center', va = 'center', fontsize=24)\n",
    "plt.quiver(0,1.08, 9,0,angles='xy',units='x',linewidth=1, width=0.08, headwidth=8, headlength=12, headaxislength=10,scale=1)\n",
    "plt.quiver(9,1.08, -9,0,angles='xy',units='x',linewidth=1, width=0.08, headwidth=8, headlength=12, headaxislength=10,scale=1)\n",
    "plt.plot([9,9], [-0.1,1.2], \"--\", linewidth=1, color=\"black\")\n",
    "\n",
    "plt.subplots_adjust(left=None, bottom=None, right=None, top=None, wspace=None, hspace=0.8)\n",
    "plt.savefig('./figures/fig2.11.eps')\n",
    "plt.show()"
   ]
  },
  {
   "cell_type": "code",
   "execution_count": 1,
   "metadata": {
    "autoscroll": "json-false",
    "collapsed": false,
    "ein.tags": [
     "worksheet-0"
    ],
    "slideshow": {
     "slide_type": "-"
    }
   },
   "outputs": [],
   "source": []
  },
  {
   "cell_type": "code",
   "execution_count": 59,
   "metadata": {
    "autoscroll": "json-false",
    "collapsed": false,
    "ein.tags": [
     "worksheet-0"
    ],
    "slideshow": {
     "slide_type": "-"
    }
   },
   "outputs": [],
   "source": [
    "plt.close()\n"
   ]
  },
  {
   "cell_type": "code",
   "execution_count": 0,
   "metadata": {
    "autoscroll": "json-false",
    "collapsed": false,
    "ein.tags": [
     "worksheet-0"
    ],
    "slideshow": {
     "slide_type": "-"
    }
   },
   "outputs": [],
   "source": []
  },
  {
   "cell_type": "code",
   "execution_count": 0,
   "metadata": {
    "autoscroll": "json-false",
    "collapsed": false,
    "ein.tags": [
     "worksheet-0"
    ],
    "slideshow": {
     "slide_type": "-"
    }
   },
   "outputs": [],
   "source": []
  }
 ],
 "metadata": {
  "kernelspec": {
   "display_name": "Python [Root]",
   "name": "Python [Root]"
  },
  "language_info": {
   "codemirror_mode": {
    "name": "ipython",
    "version": 3
   },
   "file_extension": ".py",
   "mimetype": "text/x-python",
   "name": "python",
   "nbconvert_exporter": "python",
   "pygments_lexer": "ipython3",
   "version": "3.5.2"
  },
  "name": "fig2.11.ipynb"
 },
 "nbformat": 4,
 "nbformat_minor": 0
}
