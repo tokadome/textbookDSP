{
 "cells": [
  {
   "cell_type": "code",
   "execution_count": null,
   "metadata": {
    "autoscroll": false,
    "collapsed": false,
    "ein.hycell": false,
    "ein.tags": "worksheet-0",
    "slideshow": {
     "slide_type": "-"
    }
   },
   "outputs": [],
   "source": [
    "#%matplotlib osx\n",
    "%matplotlib inline\n",
    "\n",
    "import matplotlib.pyplot as plt\n",
    "import matplotlib.lines as ln\n",
    "import numpy as np\n",
    "\n",
    "plt.rcParams['font.family'] = 'Times New Roman'\n",
    "plt.rcParams['mathtext.fontset'] = 'cm'\n",
    "\n",
    "#fig = plt.figure(figsize=(10,4), dpi=300)\n",
    "fig = plt.figure(figsize=(10,4))\n",
    "fig.patch.set_alpha(0.)\n",
    "\n",
    "step = 0.01\n",
    "OmegaRange = 3*np.pi \n",
    "omega = np.arange(-OmegaRange, OmegaRange, step)\n",
    "\n",
    "# (a)\n",
    "ax =fig.add_subplot(121)\n",
    "\n",
    "Xabs = np.abs((1/3)*(2*np.cos(omega)+1))\n",
    "\n",
    "plt.xlim([-OmegaRange, OmegaRange])\n",
    "plt.ylim([0, 1.2])\n",
    "plt.axhline(0, color='k', linewidth=2)\n",
    "ax.xaxis.set_label_coords(1.05, 0.05)\n",
    "ax.yaxis.set_label_coords(0.12,1.02)\n",
    "plt.xlabel('$\\omega$', fontsize=18)\n",
    "plt.ylabel('$|X(\\omega)|$', fontsize=18, rotation=0)\n",
    "plt.xticks([-6.28, -3.14, 0, 3.14, 6.28])\n",
    "plt.yticks([0, 0.5, 1])\n",
    "\n",
    "plt.plot(omega, Xabs, color='k')\n",
    "\n",
    "plt.text(0, -0.135, '(a)', ha = 'center', va = 'center', fontsize=18)\n",
    "\n",
    "# (b)\n",
    "ax =fig.add_subplot(122)\n",
    "\n",
    "# Because from -pi to pi mod 2pi, -pi is \"origin\"\n",
    "theta = np.array([np.mod(-omega-np.pi, 2*np.pi)-np.pi if (2*np.cos(omega)+1 > 0) else np.mod((-omega+np.pi)-np.pi,2*np.pi)-np.pi for omega in np.arange(-OmegaRange, OmegaRange, step)])\n",
    "\n",
    "#thetaPlus = theta[theta>=0]\n",
    "#thetaMinus = theta[theta<0]\n",
    "#thetaPlus = np.mod(thetaPlus, np.pi) \n",
    "#theta[theta>=0] = thetaPlus\n",
    "#thetaMinus = -np.mod(-thetaMinus, np.pi) \n",
    "#theta[theta<0] = thetaMinus\n",
    "\n",
    "plt.xlim([-OmegaRange, OmegaRange])\n",
    "plt.ylim([-3.5, 3.5])\n",
    "plt.axhline(0, color='k', linewidth=2)\n",
    "ax.xaxis.set_label_coords(1.05, 0.05)\n",
    "ax.yaxis.set_label_coords(0.25,1.02)\n",
    "plt.xlabel('$\\omega$', fontsize=18)\n",
    "plt.ylabel('$\\\\theta(\\omega) = \\\\angle X(\\omega)$', fontsize=18, rotation=0)\n",
    "plt.xticks([-6.28, -3.14, 0, 3.14, 6.28])\n",
    "plt.yticks([-3.14, 0, 3.14])\n",
    "plt.plot(omega, theta, color='k')\n",
    "\n",
    "plt.text(0, -4.3, '(b)', ha = 'center', va = 'center', fontsize=18)\n",
    "\n",
    "plt.subplots_adjust(left=None, bottom=0.15, right=None, top=None, wspace=0.3, hspace=0.6)\n",
    "plt.savefig('./figures/fig6.18.png')\n",
    "#plt.savefig('./figures/fig6.18.eps')\n",
    "plt.show()"
   ]
  },
  {
   "cell_type": "code",
   "execution_count": 59,
   "metadata": {
    "autoscroll": false,
    "collapsed": false,
    "ein.hycell": false,
    "ein.tags": "worksheet-0",
    "slideshow": {
     "slide_type": "-"
    }
   },
   "outputs": [],
   "source": [
    "plt.close()"
   ]
  }
 ],
 "metadata": {
  "kernelspec": {
   "display_name": "Python [Root]",
   "name": "Python [Root]"
  },
  "language_info": {
   "codemirror_mode": {
    "name": "ipython",
    "version": 3
   },
   "file_extension": ".py",
   "mimetype": "text/x-python",
   "name": "python",
   "nbconvert_exporter": "python",
   "pygments_lexer": "ipython3",
   "version": "3.5.2"
  },
  "name": "fig6.18.ipynb"
 },
 "nbformat": 4,
 "nbformat_minor": 0
}
