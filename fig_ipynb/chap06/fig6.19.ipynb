{
 "cells": [
  {
   "cell_type": "code",
   "execution_count": 1,
   "metadata": {
    "autoscroll": "json-false",
    "collapsed": false,
    "ein.tags": [
     "worksheet-0"
    ],
    "slideshow": {
     "slide_type": "-"
    }
   },
   "outputs": [],
   "source": [
    "%matplotlib osx\n",
    "import matplotlib.pyplot as plt\n",
    "import matplotlib.lines as ln\n",
    "import numpy as np\n",
    "plt.close()\n",
    "\n",
    "plt.rcParams['font.family'] = 'Times New Roman'\n",
    "\n",
    "\n",
    "fig = plt.figure(figsize=(10,4), dpi=300)\n",
    "#fig = plt.figure(figsize=(10,4))\n",
    "fig.patch.set_alpha(0.)\n",
    "\n",
    "step = 0.01\n",
    "b = 0.5\n",
    "OmegaRange = 1.3*np.pi \n",
    "omega = np.arange(-OmegaRange, OmegaRange, step)\n",
    "\n",
    "# (a)\n",
    "ax =fig.add_subplot(121)\n",
    "\n",
    "Xabs = 1/np.sqrt((1 - b*np.cos(omega))**2 + (b*np.sin(omega))**2)\n",
    "\n",
    "plt.xlim([-OmegaRange, OmegaRange])\n",
    "plt.ylim([0, 2.2])\n",
    "plt.axhline(0, color='k', linewidth=2)\n",
    "ax.xaxis.set_label_coords(1.05, 0.05)\n",
    "ax.yaxis.set_label_coords(0.12,1.02)\n",
    "plt.xlabel('$\\omega$', fontsize=18)\n",
    "plt.ylabel('$|X(\\omega)|$', fontsize=18, rotation=0)\n",
    "plt.xticks([-3.14, 0, 3.14])\n",
    "plt.yticks([0, 1, 2])\n",
    "\n",
    "plt.plot(omega, Xabs, color='k')\n",
    "\n",
    "plt.text(0, -0.24, '(a)', ha = 'center', va = 'center', fontsize=18)\n",
    "\n",
    "# (b)\n",
    "ax =fig.add_subplot(122)\n",
    "\n",
    "theta = np.arctan(-b*np.sin(omega)/(1-b*np.cos(omega)))\n",
    "\n",
    "#thetaPlus = theta[theta>=0]\n",
    "#thetaMinus = theta[theta<0]\n",
    "#thetaPlus = np.mod(thetaPlus, np.pi) \n",
    "#theta[theta>=0] = thetaPlus\n",
    "#thetaMinus = -np.mod(-thetaMinus, np.pi) \n",
    "#theta[theta<0] = thetaMinus\n",
    "\n",
    "plt.xlim([-OmegaRange, OmegaRange])\n",
    "plt.ylim([-3.5, 3.5])\n",
    "plt.axhline(0, color='k', linewidth=2)\n",
    "ax.xaxis.set_label_coords(1.05, 0.05)\n",
    "ax.yaxis.set_label_coords(0.2,1.02)\n",
    "plt.xlabel('$\\omega$', fontsize=18)\n",
    "plt.ylabel('$\\\\theta = \\\\angle X(\\omega)$', fontsize=18, rotation=0)\n",
    "plt.xticks([-3.14, 0, 3.14])\n",
    "plt.yticks([-3.14, 0, 3.14])\n",
    "\n",
    "plt.plot(omega, theta, color='k')\n",
    "\n",
    "plt.text(0, -4.3, '(b)', ha = 'center', va = 'center', fontsize=18)\n",
    "\n",
    "plt.subplots_adjust(left=None, bottom=0.15, right=None, top=None, wspace=0.3, hspace=0.6)\n",
    "plt.savefig('./figures/fig6.19.eps')\n",
    "plt.show()\n"
   ]
  },
  {
   "cell_type": "code",
   "execution_count": 0,
   "metadata": {
    "autoscroll": "json-false",
    "collapsed": false,
    "ein.tags": [
     "worksheet-0"
    ],
    "slideshow": {
     "slide_type": "-"
    }
   },
   "outputs": [],
   "source": [
    "plt.close()\n"
   ]
  },
  {
   "cell_type": "code",
   "execution_count": 0,
   "metadata": {
    "autoscroll": "json-false",
    "collapsed": false,
    "ein.tags": [
     "worksheet-0"
    ],
    "slideshow": {
     "slide_type": "-"
    }
   },
   "outputs": [],
   "source": []
  },
  {
   "cell_type": "code",
   "execution_count": 0,
   "metadata": {
    "autoscroll": "json-false",
    "collapsed": false,
    "ein.tags": [
     "worksheet-0"
    ],
    "slideshow": {
     "slide_type": "-"
    }
   },
   "outputs": [],
   "source": []
  }
 ],
 "metadata": {
  "kernelspec": {
   "display_name": "Python [Root]",
   "name": "Python [Root]"
  },
  "language_info": {
   "codemirror_mode": {
    "name": "ipython",
    "version": 3
   },
   "file_extension": ".py",
   "mimetype": "text/x-python",
   "name": "python",
   "nbconvert_exporter": "python",
   "pygments_lexer": "ipython3",
   "version": "3.5.2"
  },
  "name": "fig6.19.ipynb"
 },
 "nbformat": 4,
 "nbformat_minor": 0
}
