{
 "cells": [
  {
   "cell_type": "code",
   "execution_count": 1,
   "metadata": {
    "autoscroll": "json-false",
    "collapsed": false,
    "ein.tags": [
     "worksheet-0"
    ],
    "slideshow": {
     "slide_type": "-"
    }
   },
   "outputs": [],
   "source": [
    "%matplotlib osx\n",
    "import matplotlib.pyplot as plt\n",
    "import matplotlib.lines as ln\n",
    "import numpy as np\n",
    "from numpy.random import *\n",
    "\n",
    "plt.close()\n",
    "\n",
    "plt.rcParams['font.family'] = 'Times New Roman'\n",
    "\n",
    "step = 0.01\n",
    "\n",
    "#fig = plt.figure(figsize=(10,4),dpi=300)\n",
    "fig = plt.figure(figsize=(10,4))\n",
    "fig.patch.set_alpha(0.)\n",
    "\n",
    "#(a)\n",
    "ax =fig.add_subplot(121)\n",
    "\n",
    "x = np.arange(-1, 1, step)\n",
    "err = (rand(x.size)-0.5)/2.5\n",
    "y = np.sin(np.pi*x) + 1 + err\n",
    "\n",
    "plt.xlim([-1.1, 1.1])\n",
    "plt.ylim([-0.2, 2.5])\n",
    "plt.axhline(0, color='k', linewidth=2)\n",
    "ax.xaxis.set_label_coords(1.04, 0.12)\n",
    "ax.yaxis.set_label_coords(0.2,1.02)\n",
    "plt.xlabel('$x$', fontsize=18)\n",
    "plt.ylabel('$y + error$', fontsize=18, rotation=0)\n",
    "plt.xticks(range(0),)\n",
    "plt.yticks(range(0),)\n",
    "plt.plot(x,y,color='k')\n",
    "\n",
    "plt.text(0, -0.4, '(a)', ha = 'center', va = 'center', fontsize=18)\n",
    "\n",
    "######\n",
    "# (b)\n",
    "ax =fig.add_subplot(122)\n",
    "\n",
    "x = np.arange(-1, 1, step)\n",
    "y = np.sin(np.pi*x) + 1\n",
    "\n",
    "plt.xlim([-1.1, 1.1])\n",
    "plt.ylim([-0.2, 2.5])\n",
    "plt.axhline(0, color='k', linewidth=2)\n",
    "ax.xaxis.set_label_coords(1.04, 0.12)\n",
    "ax.yaxis.set_label_coords(0.1,1.02)\n",
    "plt.xlabel('$x$', fontsize=18)\n",
    "plt.ylabel('$y$', fontsize=18, rotation=0)\n",
    "plt.xticks(range(0),)\n",
    "plt.yticks(range(0),)\n",
    "plt.plot(x,y,color='k')\n",
    "\n",
    "plt.text(0, -0.4, '(b)', ha = 'center', va = 'center', fontsize=18)\n",
    "\n",
    "plt.subplots_adjust(left=None, bottom=None, right=None, top=None, wspace=None, hspace=1.0)\n",
    "plt.savefig('./figures/fig1.1.eps')\n",
    "plt.show()\n"
   ]
  },
  {
   "cell_type": "code",
   "execution_count": 59,
   "metadata": {
    "autoscroll": "json-false",
    "collapsed": false,
    "ein.tags": [
     "worksheet-0"
    ],
    "slideshow": {
     "slide_type": "-"
    }
   },
   "outputs": [],
   "source": [
    "plt.close()\n"
   ]
  },
  {
   "cell_type": "code",
   "execution_count": 0,
   "metadata": {
    "autoscroll": "json-false",
    "collapsed": false,
    "ein.tags": [
     "worksheet-0"
    ],
    "slideshow": {
     "slide_type": "-"
    }
   },
   "outputs": [],
   "source": []
  },
  {
   "cell_type": "code",
   "execution_count": 0,
   "metadata": {
    "autoscroll": "json-false",
    "collapsed": false,
    "ein.tags": [
     "worksheet-0"
    ],
    "slideshow": {
     "slide_type": "-"
    }
   },
   "outputs": [],
   "source": []
  }
 ],
 "metadata": {
  "kernelspec": {
   "display_name": "Python [Root]",
   "name": "Python [Root]"
  },
  "language_info": {
   "codemirror_mode": {
    "name": "ipython",
    "version": 3
   },
   "file_extension": ".py",
   "mimetype": "text/x-python",
   "name": "python",
   "nbconvert_exporter": "python",
   "pygments_lexer": "ipython3",
   "version": "3.5.2"
  },
  "name": "fig1.1.ipynb"
 },
 "nbformat": 4,
 "nbformat_minor": 0
}
